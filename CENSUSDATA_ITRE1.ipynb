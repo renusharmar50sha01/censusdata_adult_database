{
 "cells": [
  {
   "cell_type": "code",
   "execution_count": 1,
   "metadata": {},
   "outputs": [],
   "source": [
    "import numpy as np\n",
    "import pandas as pd\n",
    "import scipy\n",
    "from math import sqrt\n",
    "import seaborn as sns\n",
    "import matplotlib.pyplot as plt\n",
    "from sklearn import preprocessing\n",
    "from sklearn.preprocessing import LabelEncoder\n",
    "from sklearn.model_selection import train_test_split\n",
    "\n",
    "from sklearn import svm\n",
    "from sklearn.svm import LinearSVC\n",
    "\n",
    "from sklearn.neighbors import KNeighborsClassifier\n",
    "#from sklearn import datasets, linear_model\n",
    "from sklearn.metrics import mean_squared_error, r2_score\n",
    "from sklearn.model_selection import cross_val_score\n",
    "from sklearn.metrics import accuracy_score\n",
    "from sklearn.naive_bayes import GaussianNB\n",
    "from sklearn.metrics import confusion_matrix\n",
    "from sklearn import tree\n",
    "from sklearn.ensemble import ExtraTreesClassifier\n",
    "from sklearn.ensemble import RandomForestClassifier\n",
    "\n",
    "from math import sqrt\n",
    "from sklearn  import metrics \n",
    "from sklearn.metrics import cohen_kappa_score\n",
    "from sklearn.metrics import classification_report"
   ]
  },
  {
   "cell_type": "code",
   "execution_count": 2,
   "metadata": {
    "scrolled": false
   },
   "outputs": [
    {
     "data": {
      "text/html": [
       "<div>\n",
       "<style scoped>\n",
       "    .dataframe tbody tr th:only-of-type {\n",
       "        vertical-align: middle;\n",
       "    }\n",
       "\n",
       "    .dataframe tbody tr th {\n",
       "        vertical-align: top;\n",
       "    }\n",
       "\n",
       "    .dataframe thead th {\n",
       "        text-align: right;\n",
       "    }\n",
       "</style>\n",
       "<table border=\"1\" class=\"dataframe\">\n",
       "  <thead>\n",
       "    <tr style=\"text-align: right;\">\n",
       "      <th></th>\n",
       "      <th>AGE</th>\n",
       "      <th>CLASS-OF-WORKER</th>\n",
       "      <th>FNLWGT</th>\n",
       "      <th>EDUCATION</th>\n",
       "      <th>EDUCATION-NUM</th>\n",
       "      <th>MARITAL-STATUS</th>\n",
       "      <th>OCCUPATION-CODE</th>\n",
       "      <th>RELATIONSHIP</th>\n",
       "      <th>RACE</th>\n",
       "      <th>SEX</th>\n",
       "      <th>CAPITAL-GAINS</th>\n",
       "      <th>CAPITAL-LOSSES</th>\n",
       "      <th>HOURS-PER-WEEK</th>\n",
       "      <th>NATIVE-COUNTRY</th>\n",
       "      <th>R-CLASS</th>\n",
       "    </tr>\n",
       "  </thead>\n",
       "  <tbody>\n",
       "    <tr>\n",
       "      <th>0</th>\n",
       "      <td>46</td>\n",
       "      <td>Private</td>\n",
       "      <td>216414</td>\n",
       "      <td>Assoc-voc</td>\n",
       "      <td>11</td>\n",
       "      <td>Married-spouse-absent</td>\n",
       "      <td>Craft-repair</td>\n",
       "      <td>Unmarried</td>\n",
       "      <td>White</td>\n",
       "      <td>Male</td>\n",
       "      <td>0</td>\n",
       "      <td>0</td>\n",
       "      <td>40</td>\n",
       "      <td>United-States</td>\n",
       "      <td>&lt;=50K</td>\n",
       "    </tr>\n",
       "    <tr>\n",
       "      <th>1</th>\n",
       "      <td>24</td>\n",
       "      <td>Private</td>\n",
       "      <td>127753</td>\n",
       "      <td>12th</td>\n",
       "      <td>8</td>\n",
       "      <td>Never-married</td>\n",
       "      <td>Craft-repair</td>\n",
       "      <td>Other-relative</td>\n",
       "      <td>White</td>\n",
       "      <td>Male</td>\n",
       "      <td>0</td>\n",
       "      <td>0</td>\n",
       "      <td>40</td>\n",
       "      <td>United-States</td>\n",
       "      <td>&lt;=50K</td>\n",
       "    </tr>\n",
       "    <tr>\n",
       "      <th>2</th>\n",
       "      <td>19</td>\n",
       "      <td>Private</td>\n",
       "      <td>282698</td>\n",
       "      <td>7th-8th</td>\n",
       "      <td>4</td>\n",
       "      <td>Never-married</td>\n",
       "      <td>Adm-clerical</td>\n",
       "      <td>Own-child</td>\n",
       "      <td>White</td>\n",
       "      <td>Male</td>\n",
       "      <td>0</td>\n",
       "      <td>0</td>\n",
       "      <td>80</td>\n",
       "      <td>United-States</td>\n",
       "      <td>&lt;=50K</td>\n",
       "    </tr>\n",
       "    <tr>\n",
       "      <th>3</th>\n",
       "      <td>35</td>\n",
       "      <td>Private</td>\n",
       "      <td>139364</td>\n",
       "      <td>HS-grad</td>\n",
       "      <td>9</td>\n",
       "      <td>Married-civ-spouse</td>\n",
       "      <td>Sales</td>\n",
       "      <td>Husband</td>\n",
       "      <td>White</td>\n",
       "      <td>Male</td>\n",
       "      <td>0</td>\n",
       "      <td>1902</td>\n",
       "      <td>40</td>\n",
       "      <td>United-States</td>\n",
       "      <td>&gt;50K</td>\n",
       "    </tr>\n",
       "    <tr>\n",
       "      <th>4</th>\n",
       "      <td>36</td>\n",
       "      <td>Local-gov</td>\n",
       "      <td>312785</td>\n",
       "      <td>Bachelors</td>\n",
       "      <td>13</td>\n",
       "      <td>Never-married</td>\n",
       "      <td>Prof-specialty</td>\n",
       "      <td>Own-child</td>\n",
       "      <td>Black</td>\n",
       "      <td>Male</td>\n",
       "      <td>0</td>\n",
       "      <td>0</td>\n",
       "      <td>35</td>\n",
       "      <td>United-States</td>\n",
       "      <td>&lt;=50K</td>\n",
       "    </tr>\n",
       "    <tr>\n",
       "      <th>5</th>\n",
       "      <td>18</td>\n",
       "      <td>Private</td>\n",
       "      <td>92864</td>\n",
       "      <td>12th</td>\n",
       "      <td>8</td>\n",
       "      <td>Never-married</td>\n",
       "      <td>Other-service</td>\n",
       "      <td>Own-child</td>\n",
       "      <td>White</td>\n",
       "      <td>Female</td>\n",
       "      <td>0</td>\n",
       "      <td>0</td>\n",
       "      <td>20</td>\n",
       "      <td>United-States</td>\n",
       "      <td>&lt;=50K</td>\n",
       "    </tr>\n",
       "    <tr>\n",
       "      <th>6</th>\n",
       "      <td>46</td>\n",
       "      <td>Local-gov</td>\n",
       "      <td>175428</td>\n",
       "      <td>Masters</td>\n",
       "      <td>14</td>\n",
       "      <td>Married-civ-spouse</td>\n",
       "      <td>Prof-specialty</td>\n",
       "      <td>Husband</td>\n",
       "      <td>White</td>\n",
       "      <td>Male</td>\n",
       "      <td>0</td>\n",
       "      <td>0</td>\n",
       "      <td>40</td>\n",
       "      <td>United-States</td>\n",
       "      <td>&gt;50K</td>\n",
       "    </tr>\n",
       "    <tr>\n",
       "      <th>7</th>\n",
       "      <td>30</td>\n",
       "      <td>Private</td>\n",
       "      <td>104223</td>\n",
       "      <td>HS-grad</td>\n",
       "      <td>9</td>\n",
       "      <td>Never-married</td>\n",
       "      <td>Other-service</td>\n",
       "      <td>Unmarried</td>\n",
       "      <td>Black</td>\n",
       "      <td>Female</td>\n",
       "      <td>0</td>\n",
       "      <td>0</td>\n",
       "      <td>32</td>\n",
       "      <td>United-States</td>\n",
       "      <td>&lt;=50K</td>\n",
       "    </tr>\n",
       "    <tr>\n",
       "      <th>8</th>\n",
       "      <td>29</td>\n",
       "      <td>Private</td>\n",
       "      <td>144784</td>\n",
       "      <td>HS-grad</td>\n",
       "      <td>9</td>\n",
       "      <td>Never-married</td>\n",
       "      <td>Other-service</td>\n",
       "      <td>Not-in-family</td>\n",
       "      <td>Black</td>\n",
       "      <td>Female</td>\n",
       "      <td>0</td>\n",
       "      <td>0</td>\n",
       "      <td>40</td>\n",
       "      <td>United-States</td>\n",
       "      <td>&lt;=50K</td>\n",
       "    </tr>\n",
       "    <tr>\n",
       "      <th>9</th>\n",
       "      <td>41</td>\n",
       "      <td>Private</td>\n",
       "      <td>211253</td>\n",
       "      <td>Masters</td>\n",
       "      <td>14</td>\n",
       "      <td>Married-civ-spouse</td>\n",
       "      <td>Exec-managerial</td>\n",
       "      <td>Wife</td>\n",
       "      <td>White</td>\n",
       "      <td>Female</td>\n",
       "      <td>0</td>\n",
       "      <td>0</td>\n",
       "      <td>40</td>\n",
       "      <td>United-States</td>\n",
       "      <td>&gt;50K</td>\n",
       "    </tr>\n",
       "  </tbody>\n",
       "</table>\n",
       "</div>"
      ],
      "text/plain": [
       "   AGE CLASS-OF-WORKER  FNLWGT  EDUCATION  EDUCATION-NUM  \\\n",
       "0   46         Private  216414  Assoc-voc             11   \n",
       "1   24         Private  127753       12th              8   \n",
       "2   19         Private  282698    7th-8th              4   \n",
       "3   35         Private  139364    HS-grad              9   \n",
       "4   36       Local-gov  312785  Bachelors             13   \n",
       "5   18         Private   92864       12th              8   \n",
       "6   46       Local-gov  175428    Masters             14   \n",
       "7   30         Private  104223    HS-grad              9   \n",
       "8   29         Private  144784    HS-grad              9   \n",
       "9   41         Private  211253    Masters             14   \n",
       "\n",
       "          MARITAL-STATUS  OCCUPATION-CODE    RELATIONSHIP   RACE     SEX  \\\n",
       "0  Married-spouse-absent     Craft-repair       Unmarried  White    Male   \n",
       "1          Never-married     Craft-repair  Other-relative  White    Male   \n",
       "2          Never-married     Adm-clerical       Own-child  White    Male   \n",
       "3     Married-civ-spouse            Sales         Husband  White    Male   \n",
       "4          Never-married   Prof-specialty       Own-child  Black    Male   \n",
       "5          Never-married    Other-service       Own-child  White  Female   \n",
       "6     Married-civ-spouse   Prof-specialty         Husband  White    Male   \n",
       "7          Never-married    Other-service       Unmarried  Black  Female   \n",
       "8          Never-married    Other-service   Not-in-family  Black  Female   \n",
       "9     Married-civ-spouse  Exec-managerial            Wife  White  Female   \n",
       "\n",
       "   CAPITAL-GAINS  CAPITAL-LOSSES  HOURS-PER-WEEK NATIVE-COUNTRY R-CLASS  \n",
       "0              0               0              40  United-States   <=50K  \n",
       "1              0               0              40  United-States   <=50K  \n",
       "2              0               0              80  United-States   <=50K  \n",
       "3              0            1902              40  United-States    >50K  \n",
       "4              0               0              35  United-States   <=50K  \n",
       "5              0               0              20  United-States   <=50K  \n",
       "6              0               0              40  United-States    >50K  \n",
       "7              0               0              32  United-States   <=50K  \n",
       "8              0               0              40  United-States   <=50K  \n",
       "9              0               0              40  United-States    >50K  "
      ]
     },
     "execution_count": 2,
     "metadata": {},
     "output_type": "execute_result"
    }
   ],
   "source": [
    "#data\n",
    "CensusData = pd.read_csv('censusdata_3.csv', header=1)\n",
    "CensusData.head(10)"
   ]
  },
  {
   "cell_type": "code",
   "execution_count": 3,
   "metadata": {},
   "outputs": [
    {
     "data": {
      "text/plain": [
       "(27504, 15)"
      ]
     },
     "execution_count": 3,
     "metadata": {},
     "output_type": "execute_result"
    }
   ],
   "source": [
    "#CensusData = CensusData.select_dtypes(include=[object])\n",
    "CensusData.shape"
   ]
  },
  {
   "cell_type": "code",
   "execution_count": 4,
   "metadata": {},
   "outputs": [
    {
     "data": {
      "text/plain": [
       "(27504, 11)"
      ]
     },
     "execution_count": 4,
     "metadata": {},
     "output_type": "execute_result"
    }
   ],
   "source": [
    "#drop columns where amt1 to amt is 0\n",
    "CensusData = CensusData.drop('FNLWGT', 1)\n",
    "CensusData = CensusData.drop('RELATIONSHIP', 1)\n",
    "CensusData = CensusData.drop('NATIVE-COUNTRY', 1)\n",
    "CensusData = CensusData.drop('EDUCATION-NUM', 1)\n",
    "CensusData.shape\n"
   ]
  },
  {
   "cell_type": "code",
   "execution_count": 5,
   "metadata": {},
   "outputs": [
    {
     "name": "stdout",
     "output_type": "stream",
     "text": [
      "<class 'pandas.core.frame.DataFrame'>\n",
      "RangeIndex: 27504 entries, 0 to 27503\n",
      "Data columns (total 11 columns):\n",
      "AGE                27504 non-null int64\n",
      "CLASS-OF-WORKER    27504 non-null object\n",
      "EDUCATION          27504 non-null object\n",
      "MARITAL-STATUS     27504 non-null object\n",
      "OCCUPATION-CODE    27504 non-null object\n",
      "RACE               27504 non-null object\n",
      "SEX                27504 non-null object\n",
      "CAPITAL-GAINS      27504 non-null int64\n",
      "CAPITAL-LOSSES     27504 non-null int64\n",
      "HOURS-PER-WEEK     27504 non-null int64\n",
      "R-CLASS            27504 non-null object\n",
      "dtypes: int64(4), object(7)\n",
      "memory usage: 2.3+ MB\n"
     ]
    },
    {
     "data": {
      "text/html": [
       "<div>\n",
       "<style scoped>\n",
       "    .dataframe tbody tr th:only-of-type {\n",
       "        vertical-align: middle;\n",
       "    }\n",
       "\n",
       "    .dataframe tbody tr th {\n",
       "        vertical-align: top;\n",
       "    }\n",
       "\n",
       "    .dataframe thead th {\n",
       "        text-align: right;\n",
       "    }\n",
       "</style>\n",
       "<table border=\"1\" class=\"dataframe\">\n",
       "  <thead>\n",
       "    <tr style=\"text-align: right;\">\n",
       "      <th></th>\n",
       "      <th>AGE</th>\n",
       "      <th>CLASS-OF-WORKER</th>\n",
       "      <th>EDUCATION</th>\n",
       "      <th>MARITAL-STATUS</th>\n",
       "      <th>OCCUPATION-CODE</th>\n",
       "      <th>RACE</th>\n",
       "      <th>SEX</th>\n",
       "      <th>CAPITAL-GAINS</th>\n",
       "      <th>CAPITAL-LOSSES</th>\n",
       "      <th>HOURS-PER-WEEK</th>\n",
       "      <th>R-CLASS</th>\n",
       "    </tr>\n",
       "  </thead>\n",
       "  <tbody>\n",
       "    <tr>\n",
       "      <th>0</th>\n",
       "      <td>46</td>\n",
       "      <td>Private</td>\n",
       "      <td>Assoc-voc</td>\n",
       "      <td>Married-spouse-absent</td>\n",
       "      <td>Craft-repair</td>\n",
       "      <td>White</td>\n",
       "      <td>Male</td>\n",
       "      <td>0</td>\n",
       "      <td>0</td>\n",
       "      <td>40</td>\n",
       "      <td>&lt;=50K</td>\n",
       "    </tr>\n",
       "    <tr>\n",
       "      <th>1</th>\n",
       "      <td>24</td>\n",
       "      <td>Private</td>\n",
       "      <td>12th</td>\n",
       "      <td>Never-married</td>\n",
       "      <td>Craft-repair</td>\n",
       "      <td>White</td>\n",
       "      <td>Male</td>\n",
       "      <td>0</td>\n",
       "      <td>0</td>\n",
       "      <td>40</td>\n",
       "      <td>&lt;=50K</td>\n",
       "    </tr>\n",
       "    <tr>\n",
       "      <th>2</th>\n",
       "      <td>19</td>\n",
       "      <td>Private</td>\n",
       "      <td>7th-8th</td>\n",
       "      <td>Never-married</td>\n",
       "      <td>Adm-clerical</td>\n",
       "      <td>White</td>\n",
       "      <td>Male</td>\n",
       "      <td>0</td>\n",
       "      <td>0</td>\n",
       "      <td>80</td>\n",
       "      <td>&lt;=50K</td>\n",
       "    </tr>\n",
       "    <tr>\n",
       "      <th>3</th>\n",
       "      <td>35</td>\n",
       "      <td>Private</td>\n",
       "      <td>HS-grad</td>\n",
       "      <td>Married-civ-spouse</td>\n",
       "      <td>Sales</td>\n",
       "      <td>White</td>\n",
       "      <td>Male</td>\n",
       "      <td>0</td>\n",
       "      <td>1902</td>\n",
       "      <td>40</td>\n",
       "      <td>&gt;50K</td>\n",
       "    </tr>\n",
       "    <tr>\n",
       "      <th>4</th>\n",
       "      <td>36</td>\n",
       "      <td>Local-gov</td>\n",
       "      <td>Bachelors</td>\n",
       "      <td>Never-married</td>\n",
       "      <td>Prof-specialty</td>\n",
       "      <td>Black</td>\n",
       "      <td>Male</td>\n",
       "      <td>0</td>\n",
       "      <td>0</td>\n",
       "      <td>35</td>\n",
       "      <td>&lt;=50K</td>\n",
       "    </tr>\n",
       "  </tbody>\n",
       "</table>\n",
       "</div>"
      ],
      "text/plain": [
       "   AGE CLASS-OF-WORKER  EDUCATION         MARITAL-STATUS OCCUPATION-CODE  \\\n",
       "0   46         Private  Assoc-voc  Married-spouse-absent    Craft-repair   \n",
       "1   24         Private       12th          Never-married    Craft-repair   \n",
       "2   19         Private    7th-8th          Never-married    Adm-clerical   \n",
       "3   35         Private    HS-grad     Married-civ-spouse           Sales   \n",
       "4   36       Local-gov  Bachelors          Never-married  Prof-specialty   \n",
       "\n",
       "    RACE   SEX  CAPITAL-GAINS  CAPITAL-LOSSES  HOURS-PER-WEEK R-CLASS  \n",
       "0  White  Male              0               0              40   <=50K  \n",
       "1  White  Male              0               0              40   <=50K  \n",
       "2  White  Male              0               0              80   <=50K  \n",
       "3  White  Male              0            1902              40    >50K  \n",
       "4  Black  Male              0               0              35   <=50K  "
      ]
     },
     "execution_count": 5,
     "metadata": {},
     "output_type": "execute_result"
    }
   ],
   "source": [
    "CensusData.info()\n",
    "CensusData.head(5)"
   ]
  },
  {
   "cell_type": "code",
   "execution_count": 6,
   "metadata": {},
   "outputs": [
    {
     "data": {
      "text/html": [
       "<div>\n",
       "<style scoped>\n",
       "    .dataframe tbody tr th:only-of-type {\n",
       "        vertical-align: middle;\n",
       "    }\n",
       "\n",
       "    .dataframe tbody tr th {\n",
       "        vertical-align: top;\n",
       "    }\n",
       "\n",
       "    .dataframe thead th {\n",
       "        text-align: right;\n",
       "    }\n",
       "</style>\n",
       "<table border=\"1\" class=\"dataframe\">\n",
       "  <thead>\n",
       "    <tr style=\"text-align: right;\">\n",
       "      <th></th>\n",
       "      <th>AGE</th>\n",
       "      <th>CLASS-OF-WORKER</th>\n",
       "      <th>EDUCATION</th>\n",
       "      <th>MARITAL-STATUS</th>\n",
       "      <th>OCCUPATION-CODE</th>\n",
       "      <th>RACE</th>\n",
       "      <th>SEX</th>\n",
       "      <th>CAPITAL-GAINS</th>\n",
       "      <th>CAPITAL-LOSSES</th>\n",
       "      <th>HOURS-PER-WEEK</th>\n",
       "      <th>R-CLASS</th>\n",
       "    </tr>\n",
       "  </thead>\n",
       "  <tbody>\n",
       "    <tr>\n",
       "      <th>39</th>\n",
       "      <td>21</td>\n",
       "      <td>Private</td>\n",
       "      <td>Some-college</td>\n",
       "      <td>Never-married</td>\n",
       "      <td>Adm-clerical</td>\n",
       "      <td>White</td>\n",
       "      <td>Female</td>\n",
       "      <td>0</td>\n",
       "      <td>0</td>\n",
       "      <td>40</td>\n",
       "      <td>&lt;=50K</td>\n",
       "    </tr>\n",
       "    <tr>\n",
       "      <th>73</th>\n",
       "      <td>46</td>\n",
       "      <td>Private</td>\n",
       "      <td>HS-grad</td>\n",
       "      <td>Divorced</td>\n",
       "      <td>Craft-repair</td>\n",
       "      <td>White</td>\n",
       "      <td>Male</td>\n",
       "      <td>0</td>\n",
       "      <td>0</td>\n",
       "      <td>40</td>\n",
       "      <td>&lt;=50K</td>\n",
       "    </tr>\n",
       "    <tr>\n",
       "      <th>79</th>\n",
       "      <td>21</td>\n",
       "      <td>Private</td>\n",
       "      <td>Some-college</td>\n",
       "      <td>Never-married</td>\n",
       "      <td>Other-service</td>\n",
       "      <td>White</td>\n",
       "      <td>Female</td>\n",
       "      <td>0</td>\n",
       "      <td>0</td>\n",
       "      <td>40</td>\n",
       "      <td>&lt;=50K</td>\n",
       "    </tr>\n",
       "    <tr>\n",
       "      <th>111</th>\n",
       "      <td>22</td>\n",
       "      <td>Private</td>\n",
       "      <td>HS-grad</td>\n",
       "      <td>Never-married</td>\n",
       "      <td>Adm-clerical</td>\n",
       "      <td>White</td>\n",
       "      <td>Female</td>\n",
       "      <td>0</td>\n",
       "      <td>0</td>\n",
       "      <td>40</td>\n",
       "      <td>&lt;=50K</td>\n",
       "    </tr>\n",
       "    <tr>\n",
       "      <th>148</th>\n",
       "      <td>23</td>\n",
       "      <td>Private</td>\n",
       "      <td>HS-grad</td>\n",
       "      <td>Never-married</td>\n",
       "      <td>Machine-op-inspct</td>\n",
       "      <td>White</td>\n",
       "      <td>Female</td>\n",
       "      <td>0</td>\n",
       "      <td>0</td>\n",
       "      <td>40</td>\n",
       "      <td>&lt;=50K</td>\n",
       "    </tr>\n",
       "    <tr>\n",
       "      <th>213</th>\n",
       "      <td>19</td>\n",
       "      <td>Private</td>\n",
       "      <td>HS-grad</td>\n",
       "      <td>Never-married</td>\n",
       "      <td>Handlers-cleaners</td>\n",
       "      <td>White</td>\n",
       "      <td>Male</td>\n",
       "      <td>0</td>\n",
       "      <td>0</td>\n",
       "      <td>20</td>\n",
       "      <td>&lt;=50K</td>\n",
       "    </tr>\n",
       "    <tr>\n",
       "      <th>229</th>\n",
       "      <td>47</td>\n",
       "      <td>Private</td>\n",
       "      <td>Masters</td>\n",
       "      <td>Divorced</td>\n",
       "      <td>Prof-specialty</td>\n",
       "      <td>White</td>\n",
       "      <td>Female</td>\n",
       "      <td>0</td>\n",
       "      <td>0</td>\n",
       "      <td>40</td>\n",
       "      <td>&lt;=50K</td>\n",
       "    </tr>\n",
       "    <tr>\n",
       "      <th>260</th>\n",
       "      <td>25</td>\n",
       "      <td>Private</td>\n",
       "      <td>HS-grad</td>\n",
       "      <td>Never-married</td>\n",
       "      <td>Machine-op-inspct</td>\n",
       "      <td>White</td>\n",
       "      <td>Male</td>\n",
       "      <td>0</td>\n",
       "      <td>0</td>\n",
       "      <td>40</td>\n",
       "      <td>&lt;=50K</td>\n",
       "    </tr>\n",
       "    <tr>\n",
       "      <th>296</th>\n",
       "      <td>38</td>\n",
       "      <td>Private</td>\n",
       "      <td>HS-grad</td>\n",
       "      <td>Married-civ-spouse</td>\n",
       "      <td>Craft-repair</td>\n",
       "      <td>White</td>\n",
       "      <td>Male</td>\n",
       "      <td>0</td>\n",
       "      <td>0</td>\n",
       "      <td>40</td>\n",
       "      <td>&lt;=50K</td>\n",
       "    </tr>\n",
       "    <tr>\n",
       "      <th>299</th>\n",
       "      <td>57</td>\n",
       "      <td>Self-emp-not-inc</td>\n",
       "      <td>HS-grad</td>\n",
       "      <td>Married-civ-spouse</td>\n",
       "      <td>Craft-repair</td>\n",
       "      <td>White</td>\n",
       "      <td>Male</td>\n",
       "      <td>0</td>\n",
       "      <td>0</td>\n",
       "      <td>50</td>\n",
       "      <td>&gt;50K</td>\n",
       "    </tr>\n",
       "    <tr>\n",
       "      <th>309</th>\n",
       "      <td>27</td>\n",
       "      <td>Private</td>\n",
       "      <td>HS-grad</td>\n",
       "      <td>Married-civ-spouse</td>\n",
       "      <td>Craft-repair</td>\n",
       "      <td>White</td>\n",
       "      <td>Male</td>\n",
       "      <td>0</td>\n",
       "      <td>0</td>\n",
       "      <td>40</td>\n",
       "      <td>&lt;=50K</td>\n",
       "    </tr>\n",
       "    <tr>\n",
       "      <th>311</th>\n",
       "      <td>20</td>\n",
       "      <td>Private</td>\n",
       "      <td>HS-grad</td>\n",
       "      <td>Never-married</td>\n",
       "      <td>Adm-clerical</td>\n",
       "      <td>White</td>\n",
       "      <td>Female</td>\n",
       "      <td>0</td>\n",
       "      <td>0</td>\n",
       "      <td>40</td>\n",
       "      <td>&lt;=50K</td>\n",
       "    </tr>\n",
       "    <tr>\n",
       "      <th>316</th>\n",
       "      <td>18</td>\n",
       "      <td>Private</td>\n",
       "      <td>11th</td>\n",
       "      <td>Never-married</td>\n",
       "      <td>Other-service</td>\n",
       "      <td>White</td>\n",
       "      <td>Female</td>\n",
       "      <td>0</td>\n",
       "      <td>0</td>\n",
       "      <td>6</td>\n",
       "      <td>&lt;=50K</td>\n",
       "    </tr>\n",
       "    <tr>\n",
       "      <th>321</th>\n",
       "      <td>30</td>\n",
       "      <td>Private</td>\n",
       "      <td>Some-college</td>\n",
       "      <td>Married-civ-spouse</td>\n",
       "      <td>Craft-repair</td>\n",
       "      <td>White</td>\n",
       "      <td>Male</td>\n",
       "      <td>0</td>\n",
       "      <td>0</td>\n",
       "      <td>40</td>\n",
       "      <td>&lt;=50K</td>\n",
       "    </tr>\n",
       "    <tr>\n",
       "      <th>350</th>\n",
       "      <td>30</td>\n",
       "      <td>Private</td>\n",
       "      <td>HS-grad</td>\n",
       "      <td>Married-civ-spouse</td>\n",
       "      <td>Machine-op-inspct</td>\n",
       "      <td>White</td>\n",
       "      <td>Male</td>\n",
       "      <td>0</td>\n",
       "      <td>0</td>\n",
       "      <td>40</td>\n",
       "      <td>&lt;=50K</td>\n",
       "    </tr>\n",
       "    <tr>\n",
       "      <th>362</th>\n",
       "      <td>19</td>\n",
       "      <td>Private</td>\n",
       "      <td>Some-college</td>\n",
       "      <td>Never-married</td>\n",
       "      <td>Adm-clerical</td>\n",
       "      <td>White</td>\n",
       "      <td>Female</td>\n",
       "      <td>0</td>\n",
       "      <td>0</td>\n",
       "      <td>15</td>\n",
       "      <td>&lt;=50K</td>\n",
       "    </tr>\n",
       "    <tr>\n",
       "      <th>408</th>\n",
       "      <td>34</td>\n",
       "      <td>Private</td>\n",
       "      <td>Some-college</td>\n",
       "      <td>Married-civ-spouse</td>\n",
       "      <td>Craft-repair</td>\n",
       "      <td>White</td>\n",
       "      <td>Male</td>\n",
       "      <td>0</td>\n",
       "      <td>0</td>\n",
       "      <td>45</td>\n",
       "      <td>&lt;=50K</td>\n",
       "    </tr>\n",
       "    <tr>\n",
       "      <th>438</th>\n",
       "      <td>35</td>\n",
       "      <td>Private</td>\n",
       "      <td>HS-grad</td>\n",
       "      <td>Married-civ-spouse</td>\n",
       "      <td>Exec-managerial</td>\n",
       "      <td>White</td>\n",
       "      <td>Male</td>\n",
       "      <td>0</td>\n",
       "      <td>0</td>\n",
       "      <td>35</td>\n",
       "      <td>&lt;=50K</td>\n",
       "    </tr>\n",
       "    <tr>\n",
       "      <th>459</th>\n",
       "      <td>26</td>\n",
       "      <td>Private</td>\n",
       "      <td>HS-grad</td>\n",
       "      <td>Married-civ-spouse</td>\n",
       "      <td>Craft-repair</td>\n",
       "      <td>White</td>\n",
       "      <td>Male</td>\n",
       "      <td>0</td>\n",
       "      <td>0</td>\n",
       "      <td>40</td>\n",
       "      <td>&lt;=50K</td>\n",
       "    </tr>\n",
       "    <tr>\n",
       "      <th>469</th>\n",
       "      <td>18</td>\n",
       "      <td>Private</td>\n",
       "      <td>11th</td>\n",
       "      <td>Never-married</td>\n",
       "      <td>Other-service</td>\n",
       "      <td>White</td>\n",
       "      <td>Male</td>\n",
       "      <td>0</td>\n",
       "      <td>0</td>\n",
       "      <td>16</td>\n",
       "      <td>&lt;=50K</td>\n",
       "    </tr>\n",
       "    <tr>\n",
       "      <th>499</th>\n",
       "      <td>18</td>\n",
       "      <td>Private</td>\n",
       "      <td>11th</td>\n",
       "      <td>Never-married</td>\n",
       "      <td>Other-service</td>\n",
       "      <td>White</td>\n",
       "      <td>Male</td>\n",
       "      <td>0</td>\n",
       "      <td>0</td>\n",
       "      <td>20</td>\n",
       "      <td>&lt;=50K</td>\n",
       "    </tr>\n",
       "    <tr>\n",
       "      <th>513</th>\n",
       "      <td>20</td>\n",
       "      <td>Private</td>\n",
       "      <td>HS-grad</td>\n",
       "      <td>Never-married</td>\n",
       "      <td>Other-service</td>\n",
       "      <td>White</td>\n",
       "      <td>Male</td>\n",
       "      <td>0</td>\n",
       "      <td>0</td>\n",
       "      <td>40</td>\n",
       "      <td>&lt;=50K</td>\n",
       "    </tr>\n",
       "    <tr>\n",
       "      <th>533</th>\n",
       "      <td>26</td>\n",
       "      <td>Private</td>\n",
       "      <td>Some-college</td>\n",
       "      <td>Never-married</td>\n",
       "      <td>Sales</td>\n",
       "      <td>White</td>\n",
       "      <td>Female</td>\n",
       "      <td>0</td>\n",
       "      <td>0</td>\n",
       "      <td>24</td>\n",
       "      <td>&lt;=50K</td>\n",
       "    </tr>\n",
       "    <tr>\n",
       "      <th>568</th>\n",
       "      <td>48</td>\n",
       "      <td>Private</td>\n",
       "      <td>Masters</td>\n",
       "      <td>Married-civ-spouse</td>\n",
       "      <td>Exec-managerial</td>\n",
       "      <td>White</td>\n",
       "      <td>Male</td>\n",
       "      <td>0</td>\n",
       "      <td>0</td>\n",
       "      <td>50</td>\n",
       "      <td>&gt;50K</td>\n",
       "    </tr>\n",
       "    <tr>\n",
       "      <th>604</th>\n",
       "      <td>20</td>\n",
       "      <td>Private</td>\n",
       "      <td>HS-grad</td>\n",
       "      <td>Never-married</td>\n",
       "      <td>Sales</td>\n",
       "      <td>White</td>\n",
       "      <td>Female</td>\n",
       "      <td>0</td>\n",
       "      <td>0</td>\n",
       "      <td>35</td>\n",
       "      <td>&lt;=50K</td>\n",
       "    </tr>\n",
       "    <tr>\n",
       "      <th>666</th>\n",
       "      <td>20</td>\n",
       "      <td>Private</td>\n",
       "      <td>Some-college</td>\n",
       "      <td>Never-married</td>\n",
       "      <td>Handlers-cleaners</td>\n",
       "      <td>White</td>\n",
       "      <td>Male</td>\n",
       "      <td>0</td>\n",
       "      <td>0</td>\n",
       "      <td>20</td>\n",
       "      <td>&lt;=50K</td>\n",
       "    </tr>\n",
       "    <tr>\n",
       "      <th>675</th>\n",
       "      <td>43</td>\n",
       "      <td>Private</td>\n",
       "      <td>Bachelors</td>\n",
       "      <td>Married-civ-spouse</td>\n",
       "      <td>Exec-managerial</td>\n",
       "      <td>White</td>\n",
       "      <td>Male</td>\n",
       "      <td>0</td>\n",
       "      <td>0</td>\n",
       "      <td>45</td>\n",
       "      <td>&gt;50K</td>\n",
       "    </tr>\n",
       "    <tr>\n",
       "      <th>676</th>\n",
       "      <td>20</td>\n",
       "      <td>Private</td>\n",
       "      <td>Some-college</td>\n",
       "      <td>Never-married</td>\n",
       "      <td>Handlers-cleaners</td>\n",
       "      <td>White</td>\n",
       "      <td>Male</td>\n",
       "      <td>0</td>\n",
       "      <td>0</td>\n",
       "      <td>20</td>\n",
       "      <td>&lt;=50K</td>\n",
       "    </tr>\n",
       "    <tr>\n",
       "      <th>699</th>\n",
       "      <td>41</td>\n",
       "      <td>Private</td>\n",
       "      <td>Some-college</td>\n",
       "      <td>Married-civ-spouse</td>\n",
       "      <td>Sales</td>\n",
       "      <td>White</td>\n",
       "      <td>Male</td>\n",
       "      <td>0</td>\n",
       "      <td>0</td>\n",
       "      <td>50</td>\n",
       "      <td>&gt;50K</td>\n",
       "    </tr>\n",
       "    <tr>\n",
       "      <th>724</th>\n",
       "      <td>17</td>\n",
       "      <td>Private</td>\n",
       "      <td>10th</td>\n",
       "      <td>Never-married</td>\n",
       "      <td>Sales</td>\n",
       "      <td>White</td>\n",
       "      <td>Female</td>\n",
       "      <td>0</td>\n",
       "      <td>0</td>\n",
       "      <td>16</td>\n",
       "      <td>&lt;=50K</td>\n",
       "    </tr>\n",
       "    <tr>\n",
       "      <th>...</th>\n",
       "      <td>...</td>\n",
       "      <td>...</td>\n",
       "      <td>...</td>\n",
       "      <td>...</td>\n",
       "      <td>...</td>\n",
       "      <td>...</td>\n",
       "      <td>...</td>\n",
       "      <td>...</td>\n",
       "      <td>...</td>\n",
       "      <td>...</td>\n",
       "      <td>...</td>\n",
       "    </tr>\n",
       "    <tr>\n",
       "      <th>27437</th>\n",
       "      <td>59</td>\n",
       "      <td>Local-gov</td>\n",
       "      <td>Bachelors</td>\n",
       "      <td>Married-civ-spouse</td>\n",
       "      <td>Prof-specialty</td>\n",
       "      <td>White</td>\n",
       "      <td>Male</td>\n",
       "      <td>0</td>\n",
       "      <td>0</td>\n",
       "      <td>50</td>\n",
       "      <td>&gt;50K</td>\n",
       "    </tr>\n",
       "    <tr>\n",
       "      <th>27439</th>\n",
       "      <td>33</td>\n",
       "      <td>Private</td>\n",
       "      <td>HS-grad</td>\n",
       "      <td>Never-married</td>\n",
       "      <td>Transport-moving</td>\n",
       "      <td>White</td>\n",
       "      <td>Male</td>\n",
       "      <td>0</td>\n",
       "      <td>0</td>\n",
       "      <td>40</td>\n",
       "      <td>&lt;=50K</td>\n",
       "    </tr>\n",
       "    <tr>\n",
       "      <th>27440</th>\n",
       "      <td>20</td>\n",
       "      <td>Private</td>\n",
       "      <td>HS-grad</td>\n",
       "      <td>Married-civ-spouse</td>\n",
       "      <td>Sales</td>\n",
       "      <td>White</td>\n",
       "      <td>Male</td>\n",
       "      <td>0</td>\n",
       "      <td>0</td>\n",
       "      <td>40</td>\n",
       "      <td>&lt;=50K</td>\n",
       "    </tr>\n",
       "    <tr>\n",
       "      <th>27441</th>\n",
       "      <td>21</td>\n",
       "      <td>Private</td>\n",
       "      <td>HS-grad</td>\n",
       "      <td>Never-married</td>\n",
       "      <td>Machine-op-inspct</td>\n",
       "      <td>White</td>\n",
       "      <td>Male</td>\n",
       "      <td>0</td>\n",
       "      <td>0</td>\n",
       "      <td>35</td>\n",
       "      <td>&lt;=50K</td>\n",
       "    </tr>\n",
       "    <tr>\n",
       "      <th>27443</th>\n",
       "      <td>62</td>\n",
       "      <td>Private</td>\n",
       "      <td>HS-grad</td>\n",
       "      <td>Widowed</td>\n",
       "      <td>Sales</td>\n",
       "      <td>White</td>\n",
       "      <td>Female</td>\n",
       "      <td>0</td>\n",
       "      <td>0</td>\n",
       "      <td>43</td>\n",
       "      <td>&lt;=50K</td>\n",
       "    </tr>\n",
       "    <tr>\n",
       "      <th>27446</th>\n",
       "      <td>36</td>\n",
       "      <td>Private</td>\n",
       "      <td>Assoc-acdm</td>\n",
       "      <td>Never-married</td>\n",
       "      <td>Tech-support</td>\n",
       "      <td>White</td>\n",
       "      <td>Female</td>\n",
       "      <td>0</td>\n",
       "      <td>0</td>\n",
       "      <td>40</td>\n",
       "      <td>&lt;=50K</td>\n",
       "    </tr>\n",
       "    <tr>\n",
       "      <th>27447</th>\n",
       "      <td>21</td>\n",
       "      <td>Private</td>\n",
       "      <td>HS-grad</td>\n",
       "      <td>Never-married</td>\n",
       "      <td>Adm-clerical</td>\n",
       "      <td>White</td>\n",
       "      <td>Female</td>\n",
       "      <td>0</td>\n",
       "      <td>0</td>\n",
       "      <td>45</td>\n",
       "      <td>&lt;=50K</td>\n",
       "    </tr>\n",
       "    <tr>\n",
       "      <th>27450</th>\n",
       "      <td>21</td>\n",
       "      <td>Private</td>\n",
       "      <td>Some-college</td>\n",
       "      <td>Never-married</td>\n",
       "      <td>Sales</td>\n",
       "      <td>White</td>\n",
       "      <td>Male</td>\n",
       "      <td>0</td>\n",
       "      <td>0</td>\n",
       "      <td>64</td>\n",
       "      <td>&lt;=50K</td>\n",
       "    </tr>\n",
       "    <tr>\n",
       "      <th>27451</th>\n",
       "      <td>39</td>\n",
       "      <td>Private</td>\n",
       "      <td>HS-grad</td>\n",
       "      <td>Never-married</td>\n",
       "      <td>Adm-clerical</td>\n",
       "      <td>White</td>\n",
       "      <td>Male</td>\n",
       "      <td>0</td>\n",
       "      <td>0</td>\n",
       "      <td>40</td>\n",
       "      <td>&lt;=50K</td>\n",
       "    </tr>\n",
       "    <tr>\n",
       "      <th>27454</th>\n",
       "      <td>23</td>\n",
       "      <td>Private</td>\n",
       "      <td>HS-grad</td>\n",
       "      <td>Never-married</td>\n",
       "      <td>Machine-op-inspct</td>\n",
       "      <td>White</td>\n",
       "      <td>Male</td>\n",
       "      <td>0</td>\n",
       "      <td>0</td>\n",
       "      <td>40</td>\n",
       "      <td>&lt;=50K</td>\n",
       "    </tr>\n",
       "    <tr>\n",
       "      <th>27455</th>\n",
       "      <td>28</td>\n",
       "      <td>Private</td>\n",
       "      <td>Some-college</td>\n",
       "      <td>Never-married</td>\n",
       "      <td>Other-service</td>\n",
       "      <td>White</td>\n",
       "      <td>Male</td>\n",
       "      <td>0</td>\n",
       "      <td>0</td>\n",
       "      <td>35</td>\n",
       "      <td>&lt;=50K</td>\n",
       "    </tr>\n",
       "    <tr>\n",
       "      <th>27456</th>\n",
       "      <td>28</td>\n",
       "      <td>Private</td>\n",
       "      <td>HS-grad</td>\n",
       "      <td>Married-civ-spouse</td>\n",
       "      <td>Craft-repair</td>\n",
       "      <td>White</td>\n",
       "      <td>Male</td>\n",
       "      <td>0</td>\n",
       "      <td>0</td>\n",
       "      <td>40</td>\n",
       "      <td>&lt;=50K</td>\n",
       "    </tr>\n",
       "    <tr>\n",
       "      <th>27458</th>\n",
       "      <td>19</td>\n",
       "      <td>Private</td>\n",
       "      <td>Some-college</td>\n",
       "      <td>Never-married</td>\n",
       "      <td>Exec-managerial</td>\n",
       "      <td>White</td>\n",
       "      <td>Female</td>\n",
       "      <td>0</td>\n",
       "      <td>0</td>\n",
       "      <td>40</td>\n",
       "      <td>&lt;=50K</td>\n",
       "    </tr>\n",
       "    <tr>\n",
       "      <th>27459</th>\n",
       "      <td>27</td>\n",
       "      <td>Private</td>\n",
       "      <td>HS-grad</td>\n",
       "      <td>Never-married</td>\n",
       "      <td>Handlers-cleaners</td>\n",
       "      <td>Black</td>\n",
       "      <td>Male</td>\n",
       "      <td>0</td>\n",
       "      <td>0</td>\n",
       "      <td>35</td>\n",
       "      <td>&lt;=50K</td>\n",
       "    </tr>\n",
       "    <tr>\n",
       "      <th>27461</th>\n",
       "      <td>19</td>\n",
       "      <td>Private</td>\n",
       "      <td>HS-grad</td>\n",
       "      <td>Never-married</td>\n",
       "      <td>Sales</td>\n",
       "      <td>White</td>\n",
       "      <td>Female</td>\n",
       "      <td>0</td>\n",
       "      <td>0</td>\n",
       "      <td>35</td>\n",
       "      <td>&lt;=50K</td>\n",
       "    </tr>\n",
       "    <tr>\n",
       "      <th>27462</th>\n",
       "      <td>27</td>\n",
       "      <td>Private</td>\n",
       "      <td>Some-college</td>\n",
       "      <td>Never-married</td>\n",
       "      <td>Sales</td>\n",
       "      <td>White</td>\n",
       "      <td>Female</td>\n",
       "      <td>0</td>\n",
       "      <td>0</td>\n",
       "      <td>30</td>\n",
       "      <td>&lt;=50K</td>\n",
       "    </tr>\n",
       "    <tr>\n",
       "      <th>27465</th>\n",
       "      <td>30</td>\n",
       "      <td>Private</td>\n",
       "      <td>HS-grad</td>\n",
       "      <td>Married-civ-spouse</td>\n",
       "      <td>Handlers-cleaners</td>\n",
       "      <td>White</td>\n",
       "      <td>Male</td>\n",
       "      <td>0</td>\n",
       "      <td>0</td>\n",
       "      <td>40</td>\n",
       "      <td>&gt;50K</td>\n",
       "    </tr>\n",
       "    <tr>\n",
       "      <th>27466</th>\n",
       "      <td>32</td>\n",
       "      <td>Private</td>\n",
       "      <td>Bachelors</td>\n",
       "      <td>Never-married</td>\n",
       "      <td>Tech-support</td>\n",
       "      <td>White</td>\n",
       "      <td>Male</td>\n",
       "      <td>0</td>\n",
       "      <td>0</td>\n",
       "      <td>40</td>\n",
       "      <td>&lt;=50K</td>\n",
       "    </tr>\n",
       "    <tr>\n",
       "      <th>27467</th>\n",
       "      <td>31</td>\n",
       "      <td>Private</td>\n",
       "      <td>Some-college</td>\n",
       "      <td>Never-married</td>\n",
       "      <td>Sales</td>\n",
       "      <td>White</td>\n",
       "      <td>Female</td>\n",
       "      <td>0</td>\n",
       "      <td>0</td>\n",
       "      <td>40</td>\n",
       "      <td>&lt;=50K</td>\n",
       "    </tr>\n",
       "    <tr>\n",
       "      <th>27470</th>\n",
       "      <td>52</td>\n",
       "      <td>Private</td>\n",
       "      <td>Bachelors</td>\n",
       "      <td>Married-civ-spouse</td>\n",
       "      <td>Exec-managerial</td>\n",
       "      <td>White</td>\n",
       "      <td>Male</td>\n",
       "      <td>0</td>\n",
       "      <td>0</td>\n",
       "      <td>50</td>\n",
       "      <td>&gt;50K</td>\n",
       "    </tr>\n",
       "    <tr>\n",
       "      <th>27475</th>\n",
       "      <td>20</td>\n",
       "      <td>Private</td>\n",
       "      <td>Some-college</td>\n",
       "      <td>Never-married</td>\n",
       "      <td>Handlers-cleaners</td>\n",
       "      <td>White</td>\n",
       "      <td>Male</td>\n",
       "      <td>0</td>\n",
       "      <td>0</td>\n",
       "      <td>40</td>\n",
       "      <td>&lt;=50K</td>\n",
       "    </tr>\n",
       "    <tr>\n",
       "      <th>27478</th>\n",
       "      <td>24</td>\n",
       "      <td>Private</td>\n",
       "      <td>Some-college</td>\n",
       "      <td>Never-married</td>\n",
       "      <td>Sales</td>\n",
       "      <td>White</td>\n",
       "      <td>Female</td>\n",
       "      <td>0</td>\n",
       "      <td>0</td>\n",
       "      <td>35</td>\n",
       "      <td>&lt;=50K</td>\n",
       "    </tr>\n",
       "    <tr>\n",
       "      <th>27480</th>\n",
       "      <td>32</td>\n",
       "      <td>Private</td>\n",
       "      <td>Assoc-voc</td>\n",
       "      <td>Divorced</td>\n",
       "      <td>Exec-managerial</td>\n",
       "      <td>White</td>\n",
       "      <td>Female</td>\n",
       "      <td>0</td>\n",
       "      <td>0</td>\n",
       "      <td>50</td>\n",
       "      <td>&lt;=50K</td>\n",
       "    </tr>\n",
       "    <tr>\n",
       "      <th>27485</th>\n",
       "      <td>22</td>\n",
       "      <td>Private</td>\n",
       "      <td>Assoc-acdm</td>\n",
       "      <td>Never-married</td>\n",
       "      <td>Adm-clerical</td>\n",
       "      <td>White</td>\n",
       "      <td>Female</td>\n",
       "      <td>0</td>\n",
       "      <td>0</td>\n",
       "      <td>15</td>\n",
       "      <td>&lt;=50K</td>\n",
       "    </tr>\n",
       "    <tr>\n",
       "      <th>27487</th>\n",
       "      <td>38</td>\n",
       "      <td>Private</td>\n",
       "      <td>HS-grad</td>\n",
       "      <td>Married-civ-spouse</td>\n",
       "      <td>Craft-repair</td>\n",
       "      <td>White</td>\n",
       "      <td>Male</td>\n",
       "      <td>0</td>\n",
       "      <td>0</td>\n",
       "      <td>40</td>\n",
       "      <td>&lt;=50K</td>\n",
       "    </tr>\n",
       "    <tr>\n",
       "      <th>27491</th>\n",
       "      <td>28</td>\n",
       "      <td>Private</td>\n",
       "      <td>HS-grad</td>\n",
       "      <td>Never-married</td>\n",
       "      <td>Other-service</td>\n",
       "      <td>White</td>\n",
       "      <td>Female</td>\n",
       "      <td>0</td>\n",
       "      <td>0</td>\n",
       "      <td>40</td>\n",
       "      <td>&lt;=50K</td>\n",
       "    </tr>\n",
       "    <tr>\n",
       "      <th>27494</th>\n",
       "      <td>37</td>\n",
       "      <td>Self-emp-not-inc</td>\n",
       "      <td>HS-grad</td>\n",
       "      <td>Married-civ-spouse</td>\n",
       "      <td>Craft-repair</td>\n",
       "      <td>White</td>\n",
       "      <td>Male</td>\n",
       "      <td>0</td>\n",
       "      <td>0</td>\n",
       "      <td>40</td>\n",
       "      <td>&lt;=50K</td>\n",
       "    </tr>\n",
       "    <tr>\n",
       "      <th>27496</th>\n",
       "      <td>55</td>\n",
       "      <td>Private</td>\n",
       "      <td>Bachelors</td>\n",
       "      <td>Married-civ-spouse</td>\n",
       "      <td>Sales</td>\n",
       "      <td>White</td>\n",
       "      <td>Male</td>\n",
       "      <td>0</td>\n",
       "      <td>0</td>\n",
       "      <td>40</td>\n",
       "      <td>&gt;50K</td>\n",
       "    </tr>\n",
       "    <tr>\n",
       "      <th>27499</th>\n",
       "      <td>51</td>\n",
       "      <td>Private</td>\n",
       "      <td>Some-college</td>\n",
       "      <td>Married-civ-spouse</td>\n",
       "      <td>Exec-managerial</td>\n",
       "      <td>White</td>\n",
       "      <td>Male</td>\n",
       "      <td>0</td>\n",
       "      <td>0</td>\n",
       "      <td>40</td>\n",
       "      <td>&lt;=50K</td>\n",
       "    </tr>\n",
       "    <tr>\n",
       "      <th>27503</th>\n",
       "      <td>26</td>\n",
       "      <td>Private</td>\n",
       "      <td>Bachelors</td>\n",
       "      <td>Never-married</td>\n",
       "      <td>Exec-managerial</td>\n",
       "      <td>White</td>\n",
       "      <td>Female</td>\n",
       "      <td>0</td>\n",
       "      <td>0</td>\n",
       "      <td>40</td>\n",
       "      <td>&lt;=50K</td>\n",
       "    </tr>\n",
       "  </tbody>\n",
       "</table>\n",
       "<p>8930 rows × 11 columns</p>\n",
       "</div>"
      ],
      "text/plain": [
       "       AGE   CLASS-OF-WORKER     EDUCATION      MARITAL-STATUS  \\\n",
       "39      21           Private  Some-college       Never-married   \n",
       "73      46           Private       HS-grad            Divorced   \n",
       "79      21           Private  Some-college       Never-married   \n",
       "111     22           Private       HS-grad       Never-married   \n",
       "148     23           Private       HS-grad       Never-married   \n",
       "213     19           Private       HS-grad       Never-married   \n",
       "229     47           Private       Masters            Divorced   \n",
       "260     25           Private       HS-grad       Never-married   \n",
       "296     38           Private       HS-grad  Married-civ-spouse   \n",
       "299     57  Self-emp-not-inc       HS-grad  Married-civ-spouse   \n",
       "309     27           Private       HS-grad  Married-civ-spouse   \n",
       "311     20           Private       HS-grad       Never-married   \n",
       "316     18           Private          11th       Never-married   \n",
       "321     30           Private  Some-college  Married-civ-spouse   \n",
       "350     30           Private       HS-grad  Married-civ-spouse   \n",
       "362     19           Private  Some-college       Never-married   \n",
       "408     34           Private  Some-college  Married-civ-spouse   \n",
       "438     35           Private       HS-grad  Married-civ-spouse   \n",
       "459     26           Private       HS-grad  Married-civ-spouse   \n",
       "469     18           Private          11th       Never-married   \n",
       "499     18           Private          11th       Never-married   \n",
       "513     20           Private       HS-grad       Never-married   \n",
       "533     26           Private  Some-college       Never-married   \n",
       "568     48           Private       Masters  Married-civ-spouse   \n",
       "604     20           Private       HS-grad       Never-married   \n",
       "666     20           Private  Some-college       Never-married   \n",
       "675     43           Private     Bachelors  Married-civ-spouse   \n",
       "676     20           Private  Some-college       Never-married   \n",
       "699     41           Private  Some-college  Married-civ-spouse   \n",
       "724     17           Private          10th       Never-married   \n",
       "...    ...               ...           ...                 ...   \n",
       "27437   59         Local-gov     Bachelors  Married-civ-spouse   \n",
       "27439   33           Private       HS-grad       Never-married   \n",
       "27440   20           Private       HS-grad  Married-civ-spouse   \n",
       "27441   21           Private       HS-grad       Never-married   \n",
       "27443   62           Private       HS-grad             Widowed   \n",
       "27446   36           Private    Assoc-acdm       Never-married   \n",
       "27447   21           Private       HS-grad       Never-married   \n",
       "27450   21           Private  Some-college       Never-married   \n",
       "27451   39           Private       HS-grad       Never-married   \n",
       "27454   23           Private       HS-grad       Never-married   \n",
       "27455   28           Private  Some-college       Never-married   \n",
       "27456   28           Private       HS-grad  Married-civ-spouse   \n",
       "27458   19           Private  Some-college       Never-married   \n",
       "27459   27           Private       HS-grad       Never-married   \n",
       "27461   19           Private       HS-grad       Never-married   \n",
       "27462   27           Private  Some-college       Never-married   \n",
       "27465   30           Private       HS-grad  Married-civ-spouse   \n",
       "27466   32           Private     Bachelors       Never-married   \n",
       "27467   31           Private  Some-college       Never-married   \n",
       "27470   52           Private     Bachelors  Married-civ-spouse   \n",
       "27475   20           Private  Some-college       Never-married   \n",
       "27478   24           Private  Some-college       Never-married   \n",
       "27480   32           Private     Assoc-voc            Divorced   \n",
       "27485   22           Private    Assoc-acdm       Never-married   \n",
       "27487   38           Private       HS-grad  Married-civ-spouse   \n",
       "27491   28           Private       HS-grad       Never-married   \n",
       "27494   37  Self-emp-not-inc       HS-grad  Married-civ-spouse   \n",
       "27496   55           Private     Bachelors  Married-civ-spouse   \n",
       "27499   51           Private  Some-college  Married-civ-spouse   \n",
       "27503   26           Private     Bachelors       Never-married   \n",
       "\n",
       "         OCCUPATION-CODE   RACE     SEX  CAPITAL-GAINS  CAPITAL-LOSSES  \\\n",
       "39          Adm-clerical  White  Female              0               0   \n",
       "73          Craft-repair  White    Male              0               0   \n",
       "79         Other-service  White  Female              0               0   \n",
       "111         Adm-clerical  White  Female              0               0   \n",
       "148    Machine-op-inspct  White  Female              0               0   \n",
       "213    Handlers-cleaners  White    Male              0               0   \n",
       "229       Prof-specialty  White  Female              0               0   \n",
       "260    Machine-op-inspct  White    Male              0               0   \n",
       "296         Craft-repair  White    Male              0               0   \n",
       "299         Craft-repair  White    Male              0               0   \n",
       "309         Craft-repair  White    Male              0               0   \n",
       "311         Adm-clerical  White  Female              0               0   \n",
       "316        Other-service  White  Female              0               0   \n",
       "321         Craft-repair  White    Male              0               0   \n",
       "350    Machine-op-inspct  White    Male              0               0   \n",
       "362         Adm-clerical  White  Female              0               0   \n",
       "408         Craft-repair  White    Male              0               0   \n",
       "438      Exec-managerial  White    Male              0               0   \n",
       "459         Craft-repair  White    Male              0               0   \n",
       "469        Other-service  White    Male              0               0   \n",
       "499        Other-service  White    Male              0               0   \n",
       "513        Other-service  White    Male              0               0   \n",
       "533                Sales  White  Female              0               0   \n",
       "568      Exec-managerial  White    Male              0               0   \n",
       "604                Sales  White  Female              0               0   \n",
       "666    Handlers-cleaners  White    Male              0               0   \n",
       "675      Exec-managerial  White    Male              0               0   \n",
       "676    Handlers-cleaners  White    Male              0               0   \n",
       "699                Sales  White    Male              0               0   \n",
       "724                Sales  White  Female              0               0   \n",
       "...                  ...    ...     ...            ...             ...   \n",
       "27437     Prof-specialty  White    Male              0               0   \n",
       "27439   Transport-moving  White    Male              0               0   \n",
       "27440              Sales  White    Male              0               0   \n",
       "27441  Machine-op-inspct  White    Male              0               0   \n",
       "27443              Sales  White  Female              0               0   \n",
       "27446       Tech-support  White  Female              0               0   \n",
       "27447       Adm-clerical  White  Female              0               0   \n",
       "27450              Sales  White    Male              0               0   \n",
       "27451       Adm-clerical  White    Male              0               0   \n",
       "27454  Machine-op-inspct  White    Male              0               0   \n",
       "27455      Other-service  White    Male              0               0   \n",
       "27456       Craft-repair  White    Male              0               0   \n",
       "27458    Exec-managerial  White  Female              0               0   \n",
       "27459  Handlers-cleaners  Black    Male              0               0   \n",
       "27461              Sales  White  Female              0               0   \n",
       "27462              Sales  White  Female              0               0   \n",
       "27465  Handlers-cleaners  White    Male              0               0   \n",
       "27466       Tech-support  White    Male              0               0   \n",
       "27467              Sales  White  Female              0               0   \n",
       "27470    Exec-managerial  White    Male              0               0   \n",
       "27475  Handlers-cleaners  White    Male              0               0   \n",
       "27478              Sales  White  Female              0               0   \n",
       "27480    Exec-managerial  White  Female              0               0   \n",
       "27485       Adm-clerical  White  Female              0               0   \n",
       "27487       Craft-repair  White    Male              0               0   \n",
       "27491      Other-service  White  Female              0               0   \n",
       "27494       Craft-repair  White    Male              0               0   \n",
       "27496              Sales  White    Male              0               0   \n",
       "27499    Exec-managerial  White    Male              0               0   \n",
       "27503    Exec-managerial  White  Female              0               0   \n",
       "\n",
       "       HOURS-PER-WEEK R-CLASS  \n",
       "39                 40   <=50K  \n",
       "73                 40   <=50K  \n",
       "79                 40   <=50K  \n",
       "111                40   <=50K  \n",
       "148                40   <=50K  \n",
       "213                20   <=50K  \n",
       "229                40   <=50K  \n",
       "260                40   <=50K  \n",
       "296                40   <=50K  \n",
       "299                50    >50K  \n",
       "309                40   <=50K  \n",
       "311                40   <=50K  \n",
       "316                 6   <=50K  \n",
       "321                40   <=50K  \n",
       "350                40   <=50K  \n",
       "362                15   <=50K  \n",
       "408                45   <=50K  \n",
       "438                35   <=50K  \n",
       "459                40   <=50K  \n",
       "469                16   <=50K  \n",
       "499                20   <=50K  \n",
       "513                40   <=50K  \n",
       "533                24   <=50K  \n",
       "568                50    >50K  \n",
       "604                35   <=50K  \n",
       "666                20   <=50K  \n",
       "675                45    >50K  \n",
       "676                20   <=50K  \n",
       "699                50    >50K  \n",
       "724                16   <=50K  \n",
       "...               ...     ...  \n",
       "27437              50    >50K  \n",
       "27439              40   <=50K  \n",
       "27440              40   <=50K  \n",
       "27441              35   <=50K  \n",
       "27443              43   <=50K  \n",
       "27446              40   <=50K  \n",
       "27447              45   <=50K  \n",
       "27450              64   <=50K  \n",
       "27451              40   <=50K  \n",
       "27454              40   <=50K  \n",
       "27455              35   <=50K  \n",
       "27456              40   <=50K  \n",
       "27458              40   <=50K  \n",
       "27459              35   <=50K  \n",
       "27461              35   <=50K  \n",
       "27462              30   <=50K  \n",
       "27465              40    >50K  \n",
       "27466              40   <=50K  \n",
       "27467              40   <=50K  \n",
       "27470              50    >50K  \n",
       "27475              40   <=50K  \n",
       "27478              35   <=50K  \n",
       "27480              50   <=50K  \n",
       "27485              15   <=50K  \n",
       "27487              40   <=50K  \n",
       "27491              40   <=50K  \n",
       "27494              40   <=50K  \n",
       "27496              40    >50K  \n",
       "27499              40   <=50K  \n",
       "27503              40   <=50K  \n",
       "\n",
       "[8930 rows x 11 columns]"
      ]
     },
     "execution_count": 6,
     "metadata": {},
     "output_type": "execute_result"
    }
   ],
   "source": [
    "CensusData[CensusData[['AGE','CLASS-OF-WORKER','EDUCATION','MARITAL-STATUS','OCCUPATION-CODE','RACE','SEX','CAPITAL-GAINS','CAPITAL-LOSSES','R-CLASS']].duplicated() == True]"
   ]
  },
  {
   "cell_type": "code",
   "execution_count": 7,
   "metadata": {},
   "outputs": [],
   "source": [
    "CensusData_2 = CensusData.drop_duplicates(keep=False)"
   ]
  },
  {
   "cell_type": "code",
   "execution_count": 8,
   "metadata": {},
   "outputs": [
    {
     "data": {
      "text/plain": [
       "R-CLASS\n",
       "<=50K    20509\n",
       ">50K      6995\n",
       "Name: R-CLASS, dtype: int64"
      ]
     },
     "execution_count": 8,
     "metadata": {},
     "output_type": "execute_result"
    }
   ],
   "source": [
    "CensusData.groupby('R-CLASS')['R-CLASS'].count()"
   ]
  },
  {
   "cell_type": "code",
   "execution_count": 9,
   "metadata": {},
   "outputs": [
    {
     "name": "stderr",
     "output_type": "stream",
     "text": [
      "C:\\ProgramData\\Anaconda3\\lib\\site-packages\\seaborn\\categorical.py:3666: UserWarning: The `factorplot` function has been renamed to `catplot`. The original name will be removed in a future release. Please update your code. Note that the default `kind` in `factorplot` (`'point'`) has changed `'strip'` in `catplot`.\n",
      "  warnings.warn(msg)\n",
      "No handles with labels found to put in legend.\n"
     ]
    },
    {
     "data": {
      "image/png": "[encoded data removed]",
      "text/plain": [
       "<Figure size 540x360 with 1 Axes>"
      ]
     },
     "metadata": {
      "needs_background": "light"
     },
     "output_type": "display_data"
    }
   ],
   "source": [
    "fg = sns.factorplot('R-CLASS', data=CensusData_2,kind='count', aspect=1.5)\n",
    "fg.set_xlabels('Class')\n",
    "plt.legend()\n",
    "plt.show()\n"
   ]
  },
  {
   "cell_type": "code",
   "execution_count": 10,
   "metadata": {},
   "outputs": [
    {
     "data": {
      "text/plain": [
       "SEX\n",
       "Female     8932\n",
       "Male      18572\n",
       "Name: SEX, dtype: int64"
      ]
     },
     "execution_count": 10,
     "metadata": {},
     "output_type": "execute_result"
    }
   ],
   "source": [
    "CensusData.groupby('SEX')['SEX'].count()"
   ]
  },
  {
   "cell_type": "code",
   "execution_count": 11,
   "metadata": {},
   "outputs": [
    {
     "name": "stderr",
     "output_type": "stream",
     "text": [
      "C:\\ProgramData\\Anaconda3\\lib\\site-packages\\seaborn\\categorical.py:3666: UserWarning: The `factorplot` function has been renamed to `catplot`. The original name will be removed in a future release. Please update your code. Note that the default `kind` in `factorplot` (`'point'`) has changed `'strip'` in `catplot`.\n",
      "  warnings.warn(msg)\n"
     ]
    },
    {
     "data": {
      "text/plain": [
       "<seaborn.axisgrid.FacetGrid at 0x22d169e3358>"
      ]
     },
     "execution_count": 11,
     "metadata": {},
     "output_type": "execute_result"
    },
    {
     "data": {
      "image/png": "[encoded data removed]",
      "text/plain": [
       "<Figure size 540x360 with 1 Axes>"
      ]
     },
     "metadata": {
      "needs_background": "light"
     },
     "output_type": "display_data"
    }
   ],
   "source": [
    "sns.factorplot('SEX', data=CensusData, kind='count', aspect=1.5)\n"
   ]
  },
  {
   "cell_type": "code",
   "execution_count": 12,
   "metadata": {},
   "outputs": [
    {
     "data": {
      "text/plain": [
       "SEX     R-CLASS\n",
       "Female  <=50K       7908\n",
       "        >50K        1024\n",
       "Male    <=50K      12601\n",
       "        >50K        5971\n",
       "Name: SEX, dtype: int64"
      ]
     },
     "execution_count": 12,
     "metadata": {},
     "output_type": "execute_result"
    }
   ],
   "source": [
    "# Number of men and women in each of the passenger class\n",
    "CensusData.groupby(['SEX', 'R-CLASS'])['SEX'].count()"
   ]
  },
  {
   "cell_type": "code",
   "execution_count": 13,
   "metadata": {},
   "outputs": [
    {
     "name": "stderr",
     "output_type": "stream",
     "text": [
      "C:\\ProgramData\\Anaconda3\\lib\\site-packages\\seaborn\\categorical.py:3666: UserWarning: The `factorplot` function has been renamed to `catplot`. The original name will be removed in a future release. Please update your code. Note that the default `kind` in `factorplot` (`'point'`) has changed `'strip'` in `catplot`.\n",
      "  warnings.warn(msg)\n"
     ]
    },
    {
     "data": {
      "text/plain": [
       "<seaborn.axisgrid.FacetGrid at 0x22d1bfbe080>"
      ]
     },
     "execution_count": 13,
     "metadata": {},
     "output_type": "execute_result"
    },
    {
     "data": {
      "image/png": "[encoded data removed]",
      "text/plain": [
       "<Figure size 702.625x360 with 1 Axes>"
      ]
     },
     "metadata": {
      "needs_background": "light"
     },
     "output_type": "display_data"
    }
   ],
   "source": [
    "# Again use saeborn to group by Sex and class\n",
    "g = sns.factorplot('R-CLASS', data=CensusData, hue='SEX', kind='count', aspect=1.75)\n",
    "g.set_xlabels('CLASS')"
   ]
  },
  {
   "cell_type": "code",
   "execution_count": 14,
   "metadata": {
    "scrolled": true
   },
   "outputs": [
    {
     "data": {
      "text/plain": [
       "CLASS-OF-WORKER   R-CLASS\n",
       "Federal-gov       <=50K        550\n",
       "                  >50K         336\n",
       "Local-gov         <=50K       1381\n",
       "                  >50K         575\n",
       "Private           <=50K      15594\n",
       "                  >50K        4541\n",
       "Self-emp-inc      <=50K        433\n",
       "                  >50K         558\n",
       "Self-emp-not-inc  <=50K       1654\n",
       "                  >50K         659\n",
       "State-gov         <=50K        884\n",
       "                  >50K         326\n",
       "Without-pay       <=50K         13\n",
       "Name: CLASS-OF-WORKER, dtype: int64"
      ]
     },
     "execution_count": 14,
     "metadata": {},
     "output_type": "execute_result"
    }
   ],
   "source": [
    "CensusData.groupby(['CLASS-OF-WORKER', 'R-CLASS'])['CLASS-OF-WORKER'].count()"
   ]
  },
  {
   "cell_type": "code",
   "execution_count": 15,
   "metadata": {},
   "outputs": [
    {
     "name": "stderr",
     "output_type": "stream",
     "text": [
      "C:\\ProgramData\\Anaconda3\\lib\\site-packages\\seaborn\\categorical.py:3666: UserWarning: The `factorplot` function has been renamed to `catplot`. The original name will be removed in a future release. Please update your code. Note that the default `kind` in `factorplot` (`'point'`) has changed `'strip'` in `catplot`.\n",
      "  warnings.warn(msg)\n"
     ]
    },
    {
     "data": {
      "text/plain": [
       "<seaborn.axisgrid.FacetGrid at 0x22d1bf50710>"
      ]
     },
     "execution_count": 15,
     "metadata": {},
     "output_type": "execute_result"
    },
    {
     "data": {
      "image/png": "[encoded data removed]",
      "text/plain": [
       "<Figure size 748.75x360 with 1 Axes>"
      ]
     },
     "metadata": {
      "needs_background": "light"
     },
     "output_type": "display_data"
    }
   ],
   "source": [
    "g = sns.factorplot('R-CLASS', data=CensusData, hue='CLASS-OF-WORKER', kind='count', aspect=1.75)\n",
    "g.set_xlabels('CLASS')"
   ]
  },
  {
   "cell_type": "code",
   "execution_count": 16,
   "metadata": {},
   "outputs": [
    {
     "data": {
      "text/plain": [
       "<matplotlib.axes._subplots.AxesSubplot at 0x22d1c099ba8>"
      ]
     },
     "execution_count": 16,
     "metadata": {},
     "output_type": "execute_result"
    },
    {
     "data": {
      "image/png": "[encoded data removed]",
      "text/plain": [
       "<Figure size 432x288 with 1 Axes>"
      ]
     },
     "metadata": {
      "needs_background": "light"
     },
     "output_type": "display_data"
    }
   ],
   "source": [
    "sns.countplot(y='CLASS-OF-WORKER', hue='R-CLASS', data=CensusData,)"
   ]
  },
  {
   "cell_type": "code",
   "execution_count": 17,
   "metadata": {},
   "outputs": [
    {
     "data": {
      "text/plain": [
       "<matplotlib.axes._subplots.AxesSubplot at 0x22d1c863e48>"
      ]
     },
     "execution_count": 17,
     "metadata": {},
     "output_type": "execute_result"
    },
    {
     "data": {
      "image/png": "[encoded data removed]",
      "text/plain": [
       "<Figure size 432x288 with 1 Axes>"
      ]
     },
     "metadata": {
      "needs_background": "light"
     },
     "output_type": "display_data"
    }
   ],
   "source": [
    "sns.countplot(y='CLASS-OF-WORKER', hue='SEX', data=CensusData,)"
   ]
  },
  {
   "cell_type": "code",
   "execution_count": 18,
   "metadata": {},
   "outputs": [
    {
     "data": {
      "text/plain": [
       "EDUCATION     R-CLASS\n",
       "10th          <=50K       695\n",
       "              >50K         57\n",
       "11th          <=50K       902\n",
       "              >50K         55\n",
       "12th          <=50K       305\n",
       "              >50K         26\n",
       "1st-4th       <=50K        38\n",
       "              >50K          1\n",
       "5th-6th       <=50K        75\n",
       "              >50K          3\n",
       "7th-8th       <=50K       408\n",
       "              >50K         29\n",
       "9th           <=50K       328\n",
       "              >50K         22\n",
       "Assoc-acdm    <=50K       698\n",
       "              >50K        241\n",
       "Assoc-voc     <=50K       910\n",
       "              >50K        323\n",
       "Bachelors     <=50K      2643\n",
       "              >50K       1975\n",
       "Doctorate     <=50K        75\n",
       "              >50K        239\n",
       "HS-grad       <=50K      7668\n",
       "              >50K       1541\n",
       "Masters       <=50K       635\n",
       "              >50K        849\n",
       "Preschool     <=50K        15\n",
       "Prof-school   <=50K       121\n",
       "              >50K        367\n",
       "Some-college  <=50K      4993\n",
       "              >50K       1267\n",
       "Name: EDUCATION, dtype: int64"
      ]
     },
     "execution_count": 18,
     "metadata": {},
     "output_type": "execute_result"
    }
   ],
   "source": [
    "CensusData.groupby(['EDUCATION', 'R-CLASS'])['EDUCATION'].count()"
   ]
  },
  {
   "cell_type": "code",
   "execution_count": 19,
   "metadata": {},
   "outputs": [
    {
     "name": "stderr",
     "output_type": "stream",
     "text": [
      "C:\\ProgramData\\Anaconda3\\lib\\site-packages\\seaborn\\categorical.py:3666: UserWarning: The `factorplot` function has been renamed to `catplot`. The original name will be removed in a future release. Please update your code. Note that the default `kind` in `factorplot` (`'point'`) has changed `'strip'` in `catplot`.\n",
      "  warnings.warn(msg)\n"
     ]
    },
    {
     "data": {
      "text/plain": [
       "<seaborn.axisgrid.FacetGrid at 0x22d1c0a3668>"
      ]
     },
     "execution_count": 19,
     "metadata": {},
     "output_type": "execute_result"
    },
    {
     "data": {
      "image/png": "[encoded data removed]",
      "text/plain": [
       "<Figure size 733.5x360 with 1 Axes>"
      ]
     },
     "metadata": {
      "needs_background": "light"
     },
     "output_type": "display_data"
    }
   ],
   "source": [
    "g = sns.factorplot('R-CLASS', data=CensusData, hue='EDUCATION', kind='count', aspect=1.75)\n",
    "g.set_xlabels('CLASS')"
   ]
  },
  {
   "cell_type": "code",
   "execution_count": 20,
   "metadata": {},
   "outputs": [
    {
     "data": {
      "text/plain": [
       "<matplotlib.axes._subplots.AxesSubplot at 0x22d1c8daef0>"
      ]
     },
     "execution_count": 20,
     "metadata": {},
     "output_type": "execute_result"
    },
    {
     "data": {
      "image/png": "[encoded data removed]",
      "text/plain": [
       "<Figure size 432x288 with 1 Axes>"
      ]
     },
     "metadata": {
      "needs_background": "light"
     },
     "output_type": "display_data"
    }
   ],
   "source": [
    "sns.countplot(y='EDUCATION', hue='R-CLASS', data=CensusData,)"
   ]
  },
  {
   "cell_type": "code",
   "execution_count": 21,
   "metadata": {},
   "outputs": [
    {
     "data": {
      "text/plain": [
       "<matplotlib.axes._subplots.AxesSubplot at 0x22d1dc25b70>"
      ]
     },
     "execution_count": 21,
     "metadata": {},
     "output_type": "execute_result"
    },
    {
     "data": {
      "image/png": "[encoded data removed]",
      "text/plain": [
       "<Figure size 432x288 with 1 Axes>"
      ]
     },
     "metadata": {
      "needs_background": "light"
     },
     "output_type": "display_data"
    }
   ],
   "source": [
    "sns.countplot(y='EDUCATION', hue='SEX', data=CensusData,)"
   ]
  },
  {
   "cell_type": "code",
   "execution_count": 22,
   "metadata": {},
   "outputs": [
    {
     "data": {
      "text/plain": [
       "MARITAL-STATUS         R-CLASS\n",
       "Divorced               <=50K      3564\n",
       "                       >50K        429\n",
       "Married-AF-spouse      <=50K        11\n",
       "                       >50K         10\n",
       "Married-civ-spouse     <=50K      6839\n",
       "                       >50K       5959\n",
       "Married-spouse-absent  <=50K       208\n",
       "                       >50K         25\n",
       "Never-married          <=50K      8435\n",
       "                       >50K        441\n",
       "Separated              <=50K       765\n",
       "                       >50K         60\n",
       "Widowed                <=50K       687\n",
       "                       >50K         71\n",
       "Name: MARITAL-STATUS, dtype: int64"
      ]
     },
     "execution_count": 22,
     "metadata": {},
     "output_type": "execute_result"
    }
   ],
   "source": [
    "CensusData.groupby(['MARITAL-STATUS', 'R-CLASS'])['MARITAL-STATUS'].count()"
   ]
  },
  {
   "cell_type": "code",
   "execution_count": 23,
   "metadata": {},
   "outputs": [
    {
     "name": "stderr",
     "output_type": "stream",
     "text": [
      "C:\\ProgramData\\Anaconda3\\lib\\site-packages\\seaborn\\categorical.py:3666: UserWarning: The `factorplot` function has been renamed to `catplot`. The original name will be removed in a future release. Please update your code. Note that the default `kind` in `factorplot` (`'point'`) has changed `'strip'` in `catplot`.\n",
      "  warnings.warn(msg)\n"
     ]
    },
    {
     "data": {
      "text/plain": [
       "<seaborn.axisgrid.FacetGrid at 0x22d1db1dfd0>"
      ]
     },
     "execution_count": 23,
     "metadata": {},
     "output_type": "execute_result"
    },
    {
     "data": {
      "image/png": "[encoded data removed]",
      "text/plain": [
       "<Figure size 780.875x360 with 1 Axes>"
      ]
     },
     "metadata": {
      "needs_background": "light"
     },
     "output_type": "display_data"
    }
   ],
   "source": [
    "g = sns.factorplot('R-CLASS', data=CensusData, hue='MARITAL-STATUS', kind='count', aspect=1.75)\n",
    "g.set_xlabels('MARITAL-STATUS')"
   ]
  },
  {
   "cell_type": "code",
   "execution_count": 24,
   "metadata": {},
   "outputs": [
    {
     "data": {
      "text/plain": [
       "<matplotlib.axes._subplots.AxesSubplot at 0x22d1dcdff98>"
      ]
     },
     "execution_count": 24,
     "metadata": {},
     "output_type": "execute_result"
    },
    {
     "data": {
      "image/png": "[encoded data removed]",
      "text/plain": [
       "<Figure size 432x288 with 1 Axes>"
      ]
     },
     "metadata": {
      "needs_background": "light"
     },
     "output_type": "display_data"
    }
   ],
   "source": [
    "sns.countplot(y='MARITAL-STATUS', hue='R-CLASS', data=CensusData,)"
   ]
  },
  {
   "cell_type": "code",
   "execution_count": 25,
   "metadata": {},
   "outputs": [
    {
     "data": {
      "text/plain": [
       "<matplotlib.axes._subplots.AxesSubplot at 0x22d1dd4ea20>"
      ]
     },
     "execution_count": 25,
     "metadata": {},
     "output_type": "execute_result"
    },
    {
     "data": {
      "image/png": "[encoded data removed]",
      "text/plain": [
       "<Figure size 432x288 with 1 Axes>"
      ]
     },
     "metadata": {
      "needs_background": "light"
     },
     "output_type": "display_data"
    }
   ],
   "source": [
    "sns.countplot(y='MARITAL-STATUS', hue='SEX', data=CensusData,)"
   ]
  },
  {
   "cell_type": "code",
   "execution_count": 26,
   "metadata": {},
   "outputs": [
    {
     "data": {
      "text/plain": [
       "OCCUPATION-CODE    R-CLASS\n",
       "Adm-clerical       <=50K      2991\n",
       "                   >50K        458\n",
       "Armed-Forces       <=50K         8\n",
       "                   >50K          1\n",
       "Craft-repair       <=50K      2825\n",
       "                   >50K        860\n",
       "Exec-managerial    <=50K      1917\n",
       "                   >50K       1818\n",
       "Farming-fishing    <=50K       768\n",
       "                   >50K        111\n",
       "Handlers-cleaners  <=50K      1116\n",
       "                   >50K         73\n",
       "Machine-op-inspct  <=50K      1463\n",
       "                   >50K        224\n",
       "Other-service      <=50K      2671\n",
       "                   >50K        106\n",
       "Priv-house-serv    <=50K        89\n",
       "                   >50K          1\n",
       "Prof-specialty     <=50K      2043\n",
       "                   >50K       1650\n",
       "Protective-serv    <=50K       403\n",
       "                   >50K        203\n",
       "Sales              <=50K      2436\n",
       "                   >50K        928\n",
       "Tech-support       <=50K       593\n",
       "                   >50K        257\n",
       "Transport-moving   <=50K      1186\n",
       "                   >50K        305\n",
       "Name: OCCUPATION-CODE, dtype: int64"
      ]
     },
     "execution_count": 26,
     "metadata": {},
     "output_type": "execute_result"
    }
   ],
   "source": [
    "CensusData.groupby(['OCCUPATION-CODE', 'R-CLASS'])['OCCUPATION-CODE'].count()"
   ]
  },
  {
   "cell_type": "code",
   "execution_count": 27,
   "metadata": {},
   "outputs": [
    {
     "name": "stderr",
     "output_type": "stream",
     "text": [
      "C:\\ProgramData\\Anaconda3\\lib\\site-packages\\seaborn\\categorical.py:3666: UserWarning: The `factorplot` function has been renamed to `catplot`. The original name will be removed in a future release. Please update your code. Note that the default `kind` in `factorplot` (`'point'`) has changed `'strip'` in `catplot`.\n",
      "  warnings.warn(msg)\n"
     ]
    },
    {
     "data": {
      "text/plain": [
       "<seaborn.axisgrid.FacetGrid at 0x22d1dd9eeb8>"
      ]
     },
     "execution_count": 27,
     "metadata": {},
     "output_type": "execute_result"
    },
    {
     "data": {
      "image/png": "[encoded data removed]",
      "text/plain": [
       "<Figure size 757.625x360 with 1 Axes>"
      ]
     },
     "metadata": {
      "needs_background": "light"
     },
     "output_type": "display_data"
    }
   ],
   "source": [
    "g = sns.factorplot('R-CLASS', data=CensusData, hue='OCCUPATION-CODE', kind='count', aspect=1.75)\n",
    "g.set_xlabels('CLASS')"
   ]
  },
  {
   "cell_type": "code",
   "execution_count": 28,
   "metadata": {},
   "outputs": [
    {
     "data": {
      "text/plain": [
       "<matplotlib.axes._subplots.AxesSubplot at 0x22d1e1b3fd0>"
      ]
     },
     "execution_count": 28,
     "metadata": {},
     "output_type": "execute_result"
    },
    {
     "data": {
      "image/png": "[encoded data removed]",
      "text/plain": [
       "<Figure size 432x288 with 1 Axes>"
      ]
     },
     "metadata": {
      "needs_background": "light"
     },
     "output_type": "display_data"
    }
   ],
   "source": [
    "sns.countplot(y='OCCUPATION-CODE', hue='R-CLASS', data=CensusData,)"
   ]
  },
  {
   "cell_type": "code",
   "execution_count": 29,
   "metadata": {},
   "outputs": [
    {
     "data": {
      "text/plain": [
       "<matplotlib.axes._subplots.AxesSubplot at 0x22d1de355f8>"
      ]
     },
     "execution_count": 29,
     "metadata": {},
     "output_type": "execute_result"
    },
    {
     "data": {
      "image/png": "[encoded data removed]",
      "text/plain": [
       "<Figure size 432x288 with 1 Axes>"
      ]
     },
     "metadata": {
      "needs_background": "light"
     },
     "output_type": "display_data"
    }
   ],
   "source": [
    "sns.countplot(y='OCCUPATION-CODE', hue='SEX', data=CensusData,)"
   ]
  },
  {
   "cell_type": "code",
   "execution_count": 30,
   "metadata": {},
   "outputs": [
    {
     "data": {
      "text/plain": [
       "RACE                R-CLASS\n",
       "Amer-Indian-Eskimo  <=50K        238\n",
       "                    >50K          33\n",
       "Asian-Pac-Islander  <=50K        206\n",
       "                    >50K          67\n",
       "Black               <=50K       2286\n",
       "                    >50K         343\n",
       "Other               <=50K        100\n",
       "                    >50K          13\n",
       "White               <=50K      17679\n",
       "                    >50K        6539\n",
       "Name: RACE, dtype: int64"
      ]
     },
     "execution_count": 30,
     "metadata": {},
     "output_type": "execute_result"
    }
   ],
   "source": [
    "CensusData.groupby(['RACE', 'R-CLASS'])['RACE'].count()"
   ]
  },
  {
   "cell_type": "code",
   "execution_count": 31,
   "metadata": {},
   "outputs": [
    {
     "data": {
      "text/plain": [
       "<matplotlib.axes._subplots.AxesSubplot at 0x22d1dd60748>"
      ]
     },
     "execution_count": 31,
     "metadata": {},
     "output_type": "execute_result"
    },
    {
     "data": {
      "image/png": "[encoded data removed]",
      "text/plain": [
       "<Figure size 432x288 with 1 Axes>"
      ]
     },
     "metadata": {
      "needs_background": "light"
     },
     "output_type": "display_data"
    }
   ],
   "source": [
    "sns.countplot(y='RACE', hue='R-CLASS', data=CensusData,)"
   ]
  },
  {
   "cell_type": "code",
   "execution_count": 32,
   "metadata": {},
   "outputs": [
    {
     "data": {
      "text/plain": [
       "<matplotlib.axes._subplots.AxesSubplot at 0x22d1e312d68>"
      ]
     },
     "execution_count": 32,
     "metadata": {},
     "output_type": "execute_result"
    },
    {
     "data": {
      "image/png": "[encoded data removed]",
      "text/plain": [
       "<Figure size 432x288 with 1 Axes>"
      ]
     },
     "metadata": {
      "needs_background": "light"
     },
     "output_type": "display_data"
    }
   ],
   "source": [
    "sns.countplot(y='RACE', hue='SEX', data=CensusData,)"
   ]
  },
  {
   "cell_type": "code",
   "execution_count": 33,
   "metadata": {},
   "outputs": [
    {
     "data": {
      "text/plain": [
       "count    27504.000000\n",
       "mean        38.504290\n",
       "std         13.184357\n",
       "min         17.000000\n",
       "25%         28.000000\n",
       "50%         37.000000\n",
       "75%         47.000000\n",
       "max         90.000000\n",
       "Name: AGE, dtype: float64"
      ]
     },
     "execution_count": 33,
     "metadata": {},
     "output_type": "execute_result"
    }
   ],
   "source": [
    "\n",
    "CensusData.AGE.describe()"
   ]
  },
  {
   "cell_type": "code",
   "execution_count": 34,
   "metadata": {},
   "outputs": [
    {
     "name": "stdout",
     "output_type": "stream",
     "text": [
      "Average and median age of people are 39 and 37 years old, respectively\n"
     ]
    }
   ],
   "source": [
    "\n",
    "print('Average and median age of people are %0.f and %0.f years old, respectively'%(CensusData.AGE.mean(), \n",
    "                                                                          CensusData.AGE.median()))"
   ]
  },
  {
   "cell_type": "code",
   "execution_count": null,
   "metadata": {},
   "outputs": [],
   "source": []
  },
  {
   "cell_type": "code",
   "execution_count": 35,
   "metadata": {},
   "outputs": [
    {
     "name": "stderr",
     "output_type": "stream",
     "text": [
      "C:\\ProgramData\\Anaconda3\\lib\\site-packages\\scipy\\stats\\stats.py:1713: FutureWarning: Using a non-tuple sequence for multidimensional indexing is deprecated; use `arr[tuple(seq)]` instead of `arr[seq]`. In the future this will be interpreted as an array index, `arr[np.array(seq)]`, which will result either in an error or a different result.\n",
      "  return np.add.reduce(sorted[indexer] * weights, axis=axis) / sumval\n"
     ]
    },
    {
     "data": {
      "text/plain": [
       "Text(0.5, 1.0, 'Distribution of Citizens Ages')"
      ]
     },
     "execution_count": 35,
     "metadata": {},
     "output_type": "execute_result"
    },
    {
     "data": {
      "image/png": "[encoded data removed]",
      "text/plain": [
       "<Figure size 432x288 with 1 Axes>"
      ]
     },
     "metadata": {
      "needs_background": "light"
     },
     "output_type": "display_data"
    }
   ],
   "source": [
    "# Distribution of age, with an overlay of a density plot\n",
    "age = CensusData['AGE']\n",
    "age_dist = sns.distplot(age)\n",
    "age_dist.set_title(\"Distribution of Citizens Ages\")"
   ]
  },
  {
   "cell_type": "code",
   "execution_count": 36,
   "metadata": {},
   "outputs": [
    {
     "data": {
      "text/plain": [
       "<matplotlib.axes._subplots.AxesSubplot at 0x22d1e4cfb70>"
      ]
     },
     "execution_count": 36,
     "metadata": {},
     "output_type": "execute_result"
    },
    {
     "data": {
      "image/png": "[encoded data removed]",
      "text/plain": [
       "<Figure size 432x288 with 1 Axes>"
      ]
     },
     "metadata": {
      "needs_background": "light"
     },
     "output_type": "display_data"
    }
   ],
   "source": [
    "# Another way to plot a histogram of ages is shown below\n",
    "CensusData['AGE'].hist(bins=20)"
   ]
  },
  {
   "cell_type": "code",
   "execution_count": 37,
   "metadata": {},
   "outputs": [
    {
     "data": {
      "text/plain": [
       "<seaborn.axisgrid.FacetGrid at 0x22d1f4f5828>"
      ]
     },
     "execution_count": 37,
     "metadata": {},
     "output_type": "execute_result"
    },
    {
     "data": {
      "image/png": "[encoded data removed]",
      "text/plain": [
       "<Figure size 936.625x216 with 1 Axes>"
      ]
     },
     "metadata": {
      "needs_background": "light"
     },
     "output_type": "display_data"
    }
   ],
   "source": [
    "##Distribution Of Citizens AGES By CLASS\n",
    "#GROUPED BY GENDER\n",
    "fig = sns.FacetGrid(CensusData, hue='SEX', aspect=4)\n",
    "fig.map(sns.kdeplot, 'AGE', shade=True)\n",
    "oldest = CensusData['AGE'].max()\n",
    "fig.set(xlim=(0,oldest))\n",
    "fig.set(title='Distribution of Age Grouped by Gender')\n",
    "fig.add_legend()"
   ]
  },
  {
   "cell_type": "code",
   "execution_count": 38,
   "metadata": {},
   "outputs": [
    {
     "data": {
      "text/plain": [
       "<seaborn.axisgrid.FacetGrid at 0x22d1f5757b8>"
      ]
     },
     "execution_count": 38,
     "metadata": {},
     "output_type": "execute_result"
    },
    {
     "data": {
      "image/png": "[encoded data removed]",
      "text/plain": [
       "<Figure size 935.75x216 with 1 Axes>"
      ]
     },
     "metadata": {
      "needs_background": "light"
     },
     "output_type": "display_data"
    }
   ],
   "source": [
    "##GROUPED BY CLASS\n",
    "fig = sns.FacetGrid(CensusData, hue='R-CLASS', aspect=4)\n",
    "fig.map(sns.kdeplot, 'AGE', shade=True)\n",
    "oldest = CensusData['AGE'].max()\n",
    "fig.set(xlim=(0,oldest))\n",
    "fig.set(title='Distribution of Age Grouped by Class')\n",
    "fig.add_legend()"
   ]
  },
  {
   "cell_type": "code",
   "execution_count": 39,
   "metadata": {},
   "outputs": [
    {
     "data": {
      "image/png": "[encoded data removed]",
      "text/plain": [
       "<Figure size 432x288 with 1 Axes>"
      ]
     },
     "metadata": {
      "needs_background": "light"
     },
     "output_type": "display_data"
    }
   ],
   "source": [
    "CensusData.AGE.hist()\n",
    "plt.title('Histogram of Age')\n",
    "plt.xlabel('AGE')\n",
    "plt.ylabel('R-CLASS')\n",
    "plt.savefig('hist_age')\n",
    "#most of them occur between 30 and 40"
   ]
  },
  {
   "cell_type": "code",
   "execution_count": 40,
   "metadata": {
    "scrolled": false
   },
   "outputs": [
    {
     "data": {
      "text/plain": [
       "R-CLASS\n",
       "<=50K    806841\n",
       ">50K     320025\n",
       "Name: HOURS-PER-WEEK, dtype: int64"
      ]
     },
     "execution_count": 40,
     "metadata": {},
     "output_type": "execute_result"
    }
   ],
   "source": [
    "\n",
    "sumf=CensusData.groupby('R-CLASS')['HOURS-PER-WEEK'].sum()\n",
    "sumf\n"
   ]
  },
  {
   "cell_type": "code",
   "execution_count": 41,
   "metadata": {},
   "outputs": [
    {
     "data": {
      "text/plain": [
       "<matplotlib.axes._subplots.AxesSubplot at 0x22d1f6a0438>"
      ]
     },
     "execution_count": 41,
     "metadata": {},
     "output_type": "execute_result"
    },
    {
     "data": {
      "image/png": "[encoded data removed]",
      "text/plain": [
       "<Figure size 432x288 with 1 Axes>"
      ]
     },
     "metadata": {
      "needs_background": "light"
     },
     "output_type": "display_data"
    }
   ],
   "source": [
    "sns.boxplot(x=\"R-CLASS\", y=\"HOURS-PER-WEEK\", data=CensusData)\n"
   ]
  },
  {
   "cell_type": "code",
   "execution_count": 42,
   "metadata": {
    "scrolled": true
   },
   "outputs": [
    {
     "data": {
      "text/plain": [
       "SEX\n",
       "Female    329293\n",
       "Male      797573\n",
       "Name: HOURS-PER-WEEK, dtype: int64"
      ]
     },
     "execution_count": 42,
     "metadata": {},
     "output_type": "execute_result"
    }
   ],
   "source": [
    "CensusData.groupby('SEX')['HOURS-PER-WEEK'].sum()"
   ]
  },
  {
   "cell_type": "code",
   "execution_count": 43,
   "metadata": {},
   "outputs": [
    {
     "data": {
      "text/plain": [
       "<matplotlib.axes._subplots.AxesSubplot at 0x22d1f703e80>"
      ]
     },
     "execution_count": 43,
     "metadata": {},
     "output_type": "execute_result"
    },
    {
     "data": {
      "image/png": "[encoded data removed]",
      "text/plain": [
       "<Figure size 432x288 with 1 Axes>"
      ]
     },
     "metadata": {
      "needs_background": "light"
     },
     "output_type": "display_data"
    }
   ],
   "source": [
    "sns.boxplot(x=\"R-CLASS\", y=\"AGE\", data=CensusData)"
   ]
  },
  {
   "cell_type": "code",
   "execution_count": 44,
   "metadata": {},
   "outputs": [
    {
     "data": {
      "text/plain": [
       "<matplotlib.axes._subplots.AxesSubplot at 0x22d1f76d278>"
      ]
     },
     "execution_count": 44,
     "metadata": {},
     "output_type": "execute_result"
    },
    {
     "data": {
      "image/png": "[encoded data removed]",
      "text/plain": [
       "<Figure size 432x288 with 1 Axes>"
      ]
     },
     "metadata": {
      "needs_background": "light"
     },
     "output_type": "display_data"
    }
   ],
   "source": [
    "sns.boxplot(x=\"SEX\", y=\"HOURS-PER-WEEK\", data=CensusData)"
   ]
  },
  {
   "cell_type": "code",
   "execution_count": 45,
   "metadata": {},
   "outputs": [
    {
     "data": {
      "text/plain": [
       "SEX\n",
       "Female     5202952\n",
       "Male      25615274\n",
       "Name: CAPITAL-GAINS, dtype: int64"
      ]
     },
     "execution_count": 45,
     "metadata": {},
     "output_type": "execute_result"
    }
   ],
   "source": [
    "CensusData.groupby('SEX')['CAPITAL-GAINS'].sum()"
   ]
  },
  {
   "cell_type": "code",
   "execution_count": 46,
   "metadata": {},
   "outputs": [
    {
     "data": {
      "text/plain": [
       "<matplotlib.axes._subplots.AxesSubplot at 0x22d1f7dd2e8>"
      ]
     },
     "execution_count": 46,
     "metadata": {},
     "output_type": "execute_result"
    },
    {
     "data": {
      "image/png": "[encoded data removed]",
      "text/plain": [
       "<Figure size 432x288 with 1 Axes>"
      ]
     },
     "metadata": {
      "needs_background": "light"
     },
     "output_type": "display_data"
    }
   ],
   "source": [
    "sns.boxplot(x=\"R-CLASS\", y=\"CAPITAL-GAINS\", data=CensusData)"
   ]
  },
  {
   "cell_type": "code",
   "execution_count": 47,
   "metadata": {
    "scrolled": true
   },
   "outputs": [
    {
     "data": {
      "text/html": [
       "<div>\n",
       "<style scoped>\n",
       "    .dataframe tbody tr th:only-of-type {\n",
       "        vertical-align: middle;\n",
       "    }\n",
       "\n",
       "    .dataframe tbody tr th {\n",
       "        vertical-align: top;\n",
       "    }\n",
       "\n",
       "    .dataframe thead th {\n",
       "        text-align: right;\n",
       "    }\n",
       "</style>\n",
       "<table border=\"1\" class=\"dataframe\">\n",
       "  <thead>\n",
       "    <tr style=\"text-align: right;\">\n",
       "      <th></th>\n",
       "      <th>CAPITAL-LOSSES</th>\n",
       "      <th>CAPITAL-GAINS</th>\n",
       "    </tr>\n",
       "    <tr>\n",
       "      <th>SEX</th>\n",
       "      <th></th>\n",
       "      <th></th>\n",
       "    </tr>\n",
       "  </thead>\n",
       "  <tbody>\n",
       "    <tr>\n",
       "      <th>Female</th>\n",
       "      <td>566120</td>\n",
       "      <td>5202952</td>\n",
       "    </tr>\n",
       "    <tr>\n",
       "      <th>Male</th>\n",
       "      <td>1916741</td>\n",
       "      <td>25615274</td>\n",
       "    </tr>\n",
       "  </tbody>\n",
       "</table>\n",
       "</div>"
      ],
      "text/plain": [
       "        CAPITAL-LOSSES  CAPITAL-GAINS\n",
       "SEX                                  \n",
       "Female          566120        5202952\n",
       "Male           1916741       25615274"
      ]
     },
     "execution_count": 47,
     "metadata": {},
     "output_type": "execute_result"
    }
   ],
   "source": [
    "CensusData.groupby('SEX')['CAPITAL-LOSSES','CAPITAL-GAINS'].sum()"
   ]
  },
  {
   "cell_type": "code",
   "execution_count": 48,
   "metadata": {},
   "outputs": [
    {
     "data": {
      "text/plain": [
       "<matplotlib.axes._subplots.AxesSubplot at 0x22d1f848cc0>"
      ]
     },
     "execution_count": 48,
     "metadata": {},
     "output_type": "execute_result"
    },
    {
     "data": {
      "image/png": "[encoded data removed]",
      "text/plain": [
       "<Figure size 432x288 with 1 Axes>"
      ]
     },
     "metadata": {
      "needs_background": "light"
     },
     "output_type": "display_data"
    }
   ],
   "source": [
    "sns.boxplot(x=\"R-CLASS\", y=\"CAPITAL-LOSSES\", data=CensusData)"
   ]
  },
  {
   "cell_type": "code",
   "execution_count": 49,
   "metadata": {
    "scrolled": true
   },
   "outputs": [
    {
     "data": {
      "text/html": [
       "<div>\n",
       "<style scoped>\n",
       "    .dataframe tbody tr th:only-of-type {\n",
       "        vertical-align: middle;\n",
       "    }\n",
       "\n",
       "    .dataframe tbody tr th {\n",
       "        vertical-align: top;\n",
       "    }\n",
       "\n",
       "    .dataframe thead th {\n",
       "        text-align: right;\n",
       "    }\n",
       "</style>\n",
       "<table border=\"1\" class=\"dataframe\">\n",
       "  <thead>\n",
       "    <tr style=\"text-align: right;\">\n",
       "      <th></th>\n",
       "      <th>CAPITAL-LOSSES</th>\n",
       "      <th>CAPITAL-GAINS</th>\n",
       "    </tr>\n",
       "    <tr>\n",
       "      <th>R-CLASS</th>\n",
       "      <th></th>\n",
       "      <th></th>\n",
       "    </tr>\n",
       "  </thead>\n",
       "  <tbody>\n",
       "    <tr>\n",
       "      <th>&lt;=50K</th>\n",
       "      <td>1121010</td>\n",
       "      <td>3078194</td>\n",
       "    </tr>\n",
       "    <tr>\n",
       "      <th>&gt;50K</th>\n",
       "      <td>1361851</td>\n",
       "      <td>27740032</td>\n",
       "    </tr>\n",
       "  </tbody>\n",
       "</table>\n",
       "</div>"
      ],
      "text/plain": [
       "         CAPITAL-LOSSES  CAPITAL-GAINS\n",
       "R-CLASS                               \n",
       "<=50K           1121010        3078194\n",
       ">50K            1361851       27740032"
      ]
     },
     "execution_count": 49,
     "metadata": {},
     "output_type": "execute_result"
    }
   ],
   "source": [
    "CensusData.groupby('R-CLASS')['CAPITAL-LOSSES','CAPITAL-GAINS'].sum()"
   ]
  },
  {
   "cell_type": "code",
   "execution_count": 50,
   "metadata": {},
   "outputs": [
    {
     "data": {
      "text/plain": [
       "<bound method NDFrame.head of        AGE  CAPITAL-GAINS  CAPITAL-LOSSES  HOURS-PER-WEEK  \\\n",
       "0       46              0               0              40   \n",
       "1       24              0               0              40   \n",
       "2       19              0               0              80   \n",
       "3       35              0            1902              40   \n",
       "4       36              0               0              35   \n",
       "6       46              0               0              40   \n",
       "7       30              0               0              32   \n",
       "8       29              0               0              40   \n",
       "9       41              0               0              40   \n",
       "11      58              0               0              40   \n",
       "12      39              0               0              40   \n",
       "14      31              0               0              50   \n",
       "15      33              0               0              50   \n",
       "16      28              0               0              60   \n",
       "17      32           2977               0              35   \n",
       "18      32              0               0              55   \n",
       "20      41          15024               0              40   \n",
       "22      45              0               0              40   \n",
       "23      34              0               0              50   \n",
       "25      25              0               0              23   \n",
       "26      34              0               0              62   \n",
       "27      33              0               0              40   \n",
       "29      22              0               0              50   \n",
       "30      61              0               0              42   \n",
       "31      40              0               0              30   \n",
       "32      58              0               0              12   \n",
       "33      30              0               0              58   \n",
       "34      24              0               0              60   \n",
       "35      52              0               0              50   \n",
       "36      50              0               0              40   \n",
       "...    ...            ...             ...             ...   \n",
       "27464   19              0               0              20   \n",
       "27468   26              0               0              65   \n",
       "27469   44              0               0              25   \n",
       "27470   52              0               0              50   \n",
       "27471   30              0               0              40   \n",
       "27472   32              0               0              60   \n",
       "27473   19              0               0              40   \n",
       "27474   33              0               0              30   \n",
       "27476   61              0               0              40   \n",
       "27477   33              0               0              35   \n",
       "27478   24              0               0              35   \n",
       "27479   31              0               0              60   \n",
       "27481   29              0               0              40   \n",
       "27482   61              0               0              24   \n",
       "27483   48              0               0              50   \n",
       "27484   29              0               0              40   \n",
       "27485   22              0               0              15   \n",
       "27486   32              0            1672              40   \n",
       "27488   27              0               0              40   \n",
       "27489   35           8614               0              40   \n",
       "27490   62              0               0              40   \n",
       "27492   50              0               0              40   \n",
       "27493   34          99999               0              50   \n",
       "27495   35              0               0              40   \n",
       "27496   55              0               0              40   \n",
       "27497   40              0               0              40   \n",
       "27498   25              0               0              50   \n",
       "27500   37           7298               0              40   \n",
       "27501   54           7298               0              55   \n",
       "27502   47              0               0              40   \n",
       "\n",
       "       CLASS-OF-WORKER_Local-gov  CLASS-OF-WORKER_Private  \\\n",
       "0                              0                        1   \n",
       "1                              0                        1   \n",
       "2                              0                        1   \n",
       "3                              0                        1   \n",
       "4                              1                        0   \n",
       "6                              1                        0   \n",
       "7                              0                        1   \n",
       "8                              0                        1   \n",
       "9                              0                        1   \n",
       "11                             0                        1   \n",
       "12                             0                        0   \n",
       "14                             0                        1   \n",
       "15                             0                        0   \n",
       "16                             0                        1   \n",
       "17                             0                        1   \n",
       "18                             0                        1   \n",
       "20                             0                        0   \n",
       "22                             0                        1   \n",
       "23                             0                        0   \n",
       "25                             0                        1   \n",
       "26                             0                        0   \n",
       "27                             0                        1   \n",
       "29                             0                        1   \n",
       "30                             0                        1   \n",
       "31                             0                        1   \n",
       "32                             0                        1   \n",
       "33                             0                        1   \n",
       "34                             0                        1   \n",
       "35                             0                        0   \n",
       "36                             0                        1   \n",
       "...                          ...                      ...   \n",
       "27464                          1                        0   \n",
       "27468                          0                        1   \n",
       "27469                          0                        1   \n",
       "27470                          0                        1   \n",
       "27471                          0                        1   \n",
       "27472                          0                        0   \n",
       "27473                          0                        0   \n",
       "27474                          0                        1   \n",
       "27476                          0                        1   \n",
       "27477                          0                        1   \n",
       "27478                          0                        1   \n",
       "27479                          0                        0   \n",
       "27481                          0                        1   \n",
       "27482                          0                        1   \n",
       "27483                          0                        1   \n",
       "27484                          0                        0   \n",
       "27485                          0                        1   \n",
       "27486                          0                        1   \n",
       "27488                          0                        1   \n",
       "27489                          0                        1   \n",
       "27490                          0                        1   \n",
       "27492                          0                        1   \n",
       "27493                          0                        1   \n",
       "27495                          0                        1   \n",
       "27496                          0                        1   \n",
       "27497                          0                        1   \n",
       "27498                          0                        1   \n",
       "27500                          0                        1   \n",
       "27501                          0                        0   \n",
       "27502                          1                        0   \n",
       "\n",
       "       CLASS-OF-WORKER_Self-emp-inc  CLASS-OF-WORKER_Self-emp-not-inc  \\\n",
       "0                                 0                                 0   \n",
       "1                                 0                                 0   \n",
       "2                                 0                                 0   \n",
       "3                                 0                                 0   \n",
       "4                                 0                                 0   \n",
       "6                                 0                                 0   \n",
       "7                                 0                                 0   \n",
       "8                                 0                                 0   \n",
       "9                                 0                                 0   \n",
       "11                                0                                 0   \n",
       "12                                0                                 0   \n",
       "14                                0                                 0   \n",
       "15                                0                                 0   \n",
       "16                                0                                 0   \n",
       "17                                0                                 0   \n",
       "18                                0                                 0   \n",
       "20                                0                                 1   \n",
       "22                                0                                 0   \n",
       "23                                0                                 1   \n",
       "25                                0                                 0   \n",
       "26                                1                                 0   \n",
       "27                                0                                 0   \n",
       "29                                0                                 0   \n",
       "30                                0                                 0   \n",
       "31                                0                                 0   \n",
       "32                                0                                 0   \n",
       "33                                0                                 0   \n",
       "34                                0                                 0   \n",
       "35                                0                                 1   \n",
       "36                                0                                 0   \n",
       "...                             ...                               ...   \n",
       "27464                             0                                 0   \n",
       "27468                             0                                 0   \n",
       "27469                             0                                 0   \n",
       "27470                             0                                 0   \n",
       "27471                             0                                 0   \n",
       "27472                             0                                 1   \n",
       "27473                             0                                 1   \n",
       "27474                             0                                 0   \n",
       "27476                             0                                 0   \n",
       "27477                             0                                 0   \n",
       "27478                             0                                 0   \n",
       "27479                             0                                 1   \n",
       "27481                             0                                 0   \n",
       "27482                             0                                 0   \n",
       "27483                             0                                 0   \n",
       "27484                             0                                 0   \n",
       "27485                             0                                 0   \n",
       "27486                             0                                 0   \n",
       "27488                             0                                 0   \n",
       "27489                             0                                 0   \n",
       "27490                             0                                 0   \n",
       "27492                             0                                 0   \n",
       "27493                             0                                 0   \n",
       "27495                             0                                 0   \n",
       "27496                             0                                 0   \n",
       "27497                             0                                 0   \n",
       "27498                             0                                 0   \n",
       "27500                             0                                 0   \n",
       "27501                             1                                 0   \n",
       "27502                             0                                 0   \n",
       "\n",
       "       CLASS-OF-WORKER_State-gov  CLASS-OF-WORKER_Without-pay      ...       \\\n",
       "0                              0                            0      ...        \n",
       "1                              0                            0      ...        \n",
       "2                              0                            0      ...        \n",
       "3                              0                            0      ...        \n",
       "4                              0                            0      ...        \n",
       "6                              0                            0      ...        \n",
       "7                              0                            0      ...        \n",
       "8                              0                            0      ...        \n",
       "9                              0                            0      ...        \n",
       "11                             0                            0      ...        \n",
       "12                             1                            0      ...        \n",
       "14                             0                            0      ...        \n",
       "15                             1                            0      ...        \n",
       "16                             0                            0      ...        \n",
       "17                             0                            0      ...        \n",
       "18                             0                            0      ...        \n",
       "20                             0                            0      ...        \n",
       "22                             0                            0      ...        \n",
       "23                             0                            0      ...        \n",
       "25                             0                            0      ...        \n",
       "26                             0                            0      ...        \n",
       "27                             0                            0      ...        \n",
       "29                             0                            0      ...        \n",
       "30                             0                            0      ...        \n",
       "31                             0                            0      ...        \n",
       "32                             0                            0      ...        \n",
       "33                             0                            0      ...        \n",
       "34                             0                            0      ...        \n",
       "35                             0                            0      ...        \n",
       "36                             0                            0      ...        \n",
       "...                          ...                          ...      ...        \n",
       "27464                          0                            0      ...        \n",
       "27468                          0                            0      ...        \n",
       "27469                          0                            0      ...        \n",
       "27470                          0                            0      ...        \n",
       "27471                          0                            0      ...        \n",
       "27472                          0                            0      ...        \n",
       "27473                          0                            0      ...        \n",
       "27474                          0                            0      ...        \n",
       "27476                          0                            0      ...        \n",
       "27477                          0                            0      ...        \n",
       "27478                          0                            0      ...        \n",
       "27479                          0                            0      ...        \n",
       "27481                          0                            0      ...        \n",
       "27482                          0                            0      ...        \n",
       "27483                          0                            0      ...        \n",
       "27484                          0                            0      ...        \n",
       "27485                          0                            0      ...        \n",
       "27486                          0                            0      ...        \n",
       "27488                          0                            0      ...        \n",
       "27489                          0                            0      ...        \n",
       "27490                          0                            0      ...        \n",
       "27492                          0                            0      ...        \n",
       "27493                          0                            0      ...        \n",
       "27495                          0                            0      ...        \n",
       "27496                          0                            0      ...        \n",
       "27497                          0                            0      ...        \n",
       "27498                          0                            0      ...        \n",
       "27500                          0                            0      ...        \n",
       "27501                          0                            0      ...        \n",
       "27502                          0                            0      ...        \n",
       "\n",
       "       OCCUPATION-CODE_Protective-serv  OCCUPATION-CODE_Sales  \\\n",
       "0                                    0                      0   \n",
       "1                                    0                      0   \n",
       "2                                    0                      0   \n",
       "3                                    0                      1   \n",
       "4                                    0                      0   \n",
       "6                                    0                      0   \n",
       "7                                    0                      0   \n",
       "8                                    0                      0   \n",
       "9                                    0                      0   \n",
       "11                                   0                      0   \n",
       "12                                   0                      0   \n",
       "14                                   0                      0   \n",
       "15                                   0                      0   \n",
       "16                                   0                      0   \n",
       "17                                   0                      0   \n",
       "18                                   0                      0   \n",
       "20                                   0                      0   \n",
       "22                                   0                      0   \n",
       "23                                   0                      0   \n",
       "25                                   0                      0   \n",
       "26                                   0                      0   \n",
       "27                                   0                      1   \n",
       "29                                   0                      0   \n",
       "30                                   0                      0   \n",
       "31                                   0                      0   \n",
       "32                                   0                      1   \n",
       "33                                   0                      0   \n",
       "34                                   0                      0   \n",
       "35                                   0                      0   \n",
       "36                                   0                      1   \n",
       "...                                ...                    ...   \n",
       "27464                                0                      0   \n",
       "27468                                0                      1   \n",
       "27469                                0                      1   \n",
       "27470                                0                      0   \n",
       "27471                                0                      0   \n",
       "27472                                0                      0   \n",
       "27473                                0                      0   \n",
       "27474                                0                      0   \n",
       "27476                                0                      0   \n",
       "27477                                0                      0   \n",
       "27478                                0                      1   \n",
       "27479                                0                      0   \n",
       "27481                                0                      0   \n",
       "27482                                0                      0   \n",
       "27483                                0                      0   \n",
       "27484                                0                      0   \n",
       "27485                                0                      0   \n",
       "27486                                0                      0   \n",
       "27488                                0                      0   \n",
       "27489                                0                      0   \n",
       "27490                                0                      0   \n",
       "27492                                0                      0   \n",
       "27493                                0                      1   \n",
       "27495                                0                      0   \n",
       "27496                                0                      1   \n",
       "27497                                0                      1   \n",
       "27498                                0                      1   \n",
       "27500                                0                      0   \n",
       "27501                                0                      0   \n",
       "27502                                0                      0   \n",
       "\n",
       "       OCCUPATION-CODE_Tech-support  OCCUPATION-CODE_Transport-moving  \\\n",
       "0                                 0                                 0   \n",
       "1                                 0                                 0   \n",
       "2                                 0                                 0   \n",
       "3                                 0                                 0   \n",
       "4                                 0                                 0   \n",
       "6                                 0                                 0   \n",
       "7                                 0                                 0   \n",
       "8                                 0                                 0   \n",
       "9                                 0                                 0   \n",
       "11                                0                                 1   \n",
       "12                                0                                 0   \n",
       "14                                0                                 1   \n",
       "15                                0                                 0   \n",
       "16                                0                                 0   \n",
       "17                                0                                 0   \n",
       "18                                0                                 0   \n",
       "20                                0                                 0   \n",
       "22                                0                                 0   \n",
       "23                                0                                 0   \n",
       "25                                0                                 0   \n",
       "26                                0                                 0   \n",
       "27                                0                                 0   \n",
       "29                                0                                 0   \n",
       "30                                0                                 0   \n",
       "31                                0                                 0   \n",
       "32                                0                                 0   \n",
       "33                                0                                 0   \n",
       "34                                0                                 0   \n",
       "35                                0                                 0   \n",
       "36                                0                                 0   \n",
       "...                             ...                               ...   \n",
       "27464                             0                                 0   \n",
       "27468                             0                                 0   \n",
       "27469                             0                                 0   \n",
       "27470                             0                                 0   \n",
       "27471                             0                                 0   \n",
       "27472                             0                                 0   \n",
       "27473                             0                                 0   \n",
       "27474                             0                                 0   \n",
       "27476                             0                                 0   \n",
       "27477                             0                                 0   \n",
       "27478                             0                                 0   \n",
       "27479                             0                                 0   \n",
       "27481                             1                                 0   \n",
       "27482                             0                                 0   \n",
       "27483                             0                                 0   \n",
       "27484                             0                                 0   \n",
       "27485                             0                                 0   \n",
       "27486                             0                                 0   \n",
       "27488                             0                                 0   \n",
       "27489                             0                                 0   \n",
       "27490                             0                                 0   \n",
       "27492                             0                                 0   \n",
       "27493                             0                                 0   \n",
       "27495                             0                                 0   \n",
       "27496                             0                                 0   \n",
       "27497                             0                                 0   \n",
       "27498                             0                                 0   \n",
       "27500                             0                                 0   \n",
       "27501                             0                                 0   \n",
       "27502                             0                                 0   \n",
       "\n",
       "       RACE_Asian-Pac-Islander  RACE_Black  RACE_Other  RACE_White  SEX_Male  \\\n",
       "0                            0           0           0           1         1   \n",
       "1                            0           0           0           1         1   \n",
       "2                            0           0           0           1         1   \n",
       "3                            0           0           0           1         1   \n",
       "4                            0           1           0           0         1   \n",
       "6                            0           0           0           1         1   \n",
       "7                            0           1           0           0         0   \n",
       "8                            0           1           0           0         0   \n",
       "9                            0           0           0           1         0   \n",
       "11                           0           1           0           0         1   \n",
       "12                           0           1           0           0         0   \n",
       "14                           0           0           0           1         1   \n",
       "15                           0           0           0           1         1   \n",
       "16                           0           0           0           1         1   \n",
       "17                           0           1           0           0         0   \n",
       "18                           0           0           0           1         1   \n",
       "20                           0           0           0           1         1   \n",
       "22                           0           1           0           0         0   \n",
       "23                           0           0           0           1         1   \n",
       "25                           0           1           0           0         1   \n",
       "26                           0           0           0           1         0   \n",
       "27                           0           0           0           1         0   \n",
       "29                           0           0           0           1         1   \n",
       "30                           0           0           0           1         1   \n",
       "31                           0           0           0           1         0   \n",
       "32                           0           0           0           1         1   \n",
       "33                           0           0           0           1         1   \n",
       "34                           0           0           0           1         1   \n",
       "35                           0           0           0           1         1   \n",
       "36                           0           0           0           1         0   \n",
       "...                        ...         ...         ...         ...       ...   \n",
       "27464                        0           0           0           1         0   \n",
       "27468                        0           1           0           0         1   \n",
       "27469                        0           0           0           1         0   \n",
       "27470                        0           0           0           1         1   \n",
       "27471                        0           0           0           1         1   \n",
       "27472                        0           0           0           1         0   \n",
       "27473                        0           0           0           1         1   \n",
       "27474                        0           0           0           1         1   \n",
       "27476                        0           0           0           1         1   \n",
       "27477                        0           1           0           0         0   \n",
       "27478                        0           0           0           1         0   \n",
       "27479                        0           0           0           1         1   \n",
       "27481                        0           0           0           1         0   \n",
       "27482                        0           0           0           1         1   \n",
       "27483                        0           0           0           1         0   \n",
       "27484                        0           0           0           1         0   \n",
       "27485                        0           0           0           1         0   \n",
       "27486                        0           0           0           1         1   \n",
       "27488                        0           0           0           1         0   \n",
       "27489                        0           0           0           1         1   \n",
       "27490                        0           0           0           1         0   \n",
       "27492                        0           1           0           0         1   \n",
       "27493                        0           0           0           1         1   \n",
       "27495                        0           1           0           0         1   \n",
       "27496                        0           0           0           1         1   \n",
       "27497                        0           0           0           1         0   \n",
       "27498                        0           0           1           0         1   \n",
       "27500                        0           0           0           1         1   \n",
       "27501                        0           0           0           1         1   \n",
       "27502                        0           0           0           1         1   \n",
       "\n",
       "       R-CLASS_>50K  \n",
       "0                 0  \n",
       "1                 0  \n",
       "2                 0  \n",
       "3                 1  \n",
       "4                 0  \n",
       "6                 1  \n",
       "7                 0  \n",
       "8                 0  \n",
       "9                 1  \n",
       "11                0  \n",
       "12                0  \n",
       "14                1  \n",
       "15                1  \n",
       "16                0  \n",
       "17                0  \n",
       "18                1  \n",
       "20                1  \n",
       "22                0  \n",
       "23                0  \n",
       "25                0  \n",
       "26                1  \n",
       "27                0  \n",
       "29                0  \n",
       "30                0  \n",
       "31                1  \n",
       "32                0  \n",
       "33                0  \n",
       "34                0  \n",
       "35                1  \n",
       "36                0  \n",
       "...             ...  \n",
       "27464             0  \n",
       "27468             0  \n",
       "27469             0  \n",
       "27470             1  \n",
       "27471             0  \n",
       "27472             0  \n",
       "27473             0  \n",
       "27474             0  \n",
       "27476             0  \n",
       "27477             0  \n",
       "27478             0  \n",
       "27479             0  \n",
       "27481             0  \n",
       "27482             0  \n",
       "27483             0  \n",
       "27484             0  \n",
       "27485             0  \n",
       "27486             0  \n",
       "27488             0  \n",
       "27489             1  \n",
       "27490             0  \n",
       "27492             0  \n",
       "27493             1  \n",
       "27495             0  \n",
       "27496             1  \n",
       "27497             1  \n",
       "27498             0  \n",
       "27500             1  \n",
       "27501             1  \n",
       "27502             1  \n",
       "\n",
       "[21220 rows x 50 columns]>"
      ]
     },
     "execution_count": 50,
     "metadata": {},
     "output_type": "execute_result"
    }
   ],
   "source": [
    "#pd.get_dummies(CensusData,columns = [R_CLASS])\n",
    "dummy = pd.get_dummies(CensusData_2,columns = ['CLASS-OF-WORKER','EDUCATION','MARITAL-STATUS','OCCUPATION-CODE','RACE','SEX','R-CLASS'], drop_first=True)\n",
    "dummy.head\n"
   ]
  },
  {
   "cell_type": "code",
   "execution_count": 51,
   "metadata": {},
   "outputs": [
    {
     "data": {
      "text/html": [
       "<div>\n",
       "<style scoped>\n",
       "    .dataframe tbody tr th:only-of-type {\n",
       "        vertical-align: middle;\n",
       "    }\n",
       "\n",
       "    .dataframe tbody tr th {\n",
       "        vertical-align: top;\n",
       "    }\n",
       "\n",
       "    .dataframe thead th {\n",
       "        text-align: right;\n",
       "    }\n",
       "</style>\n",
       "<table border=\"1\" class=\"dataframe\">\n",
       "  <thead>\n",
       "    <tr style=\"text-align: right;\">\n",
       "      <th></th>\n",
       "      <th>AGE</th>\n",
       "      <th>CLASS-OF-WORKER</th>\n",
       "      <th>EDUCATION</th>\n",
       "      <th>MARITAL-STATUS</th>\n",
       "      <th>OCCUPATION-CODE</th>\n",
       "      <th>RACE</th>\n",
       "      <th>SEX</th>\n",
       "      <th>CAPITAL-GAINS</th>\n",
       "      <th>CAPITAL-LOSSES</th>\n",
       "      <th>HOURS-PER-WEEK</th>\n",
       "      <th>R-CLASS</th>\n",
       "    </tr>\n",
       "  </thead>\n",
       "  <tbody>\n",
       "    <tr>\n",
       "      <th>0</th>\n",
       "      <td>46</td>\n",
       "      <td>Private</td>\n",
       "      <td>Assoc-voc</td>\n",
       "      <td>Married-spouse-absent</td>\n",
       "      <td>Craft-repair</td>\n",
       "      <td>White</td>\n",
       "      <td>Male</td>\n",
       "      <td>0</td>\n",
       "      <td>0</td>\n",
       "      <td>40</td>\n",
       "      <td>&lt;=50K</td>\n",
       "    </tr>\n",
       "    <tr>\n",
       "      <th>1</th>\n",
       "      <td>24</td>\n",
       "      <td>Private</td>\n",
       "      <td>12th</td>\n",
       "      <td>Never-married</td>\n",
       "      <td>Craft-repair</td>\n",
       "      <td>White</td>\n",
       "      <td>Male</td>\n",
       "      <td>0</td>\n",
       "      <td>0</td>\n",
       "      <td>40</td>\n",
       "      <td>&lt;=50K</td>\n",
       "    </tr>\n",
       "    <tr>\n",
       "      <th>2</th>\n",
       "      <td>19</td>\n",
       "      <td>Private</td>\n",
       "      <td>7th-8th</td>\n",
       "      <td>Never-married</td>\n",
       "      <td>Adm-clerical</td>\n",
       "      <td>White</td>\n",
       "      <td>Male</td>\n",
       "      <td>0</td>\n",
       "      <td>0</td>\n",
       "      <td>80</td>\n",
       "      <td>&lt;=50K</td>\n",
       "    </tr>\n",
       "  </tbody>\n",
       "</table>\n",
       "</div>"
      ],
      "text/plain": [
       "   AGE CLASS-OF-WORKER  EDUCATION         MARITAL-STATUS OCCUPATION-CODE  \\\n",
       "0   46         Private  Assoc-voc  Married-spouse-absent    Craft-repair   \n",
       "1   24         Private       12th          Never-married    Craft-repair   \n",
       "2   19         Private    7th-8th          Never-married    Adm-clerical   \n",
       "\n",
       "    RACE   SEX  CAPITAL-GAINS  CAPITAL-LOSSES  HOURS-PER-WEEK R-CLASS  \n",
       "0  White  Male              0               0              40   <=50K  \n",
       "1  White  Male              0               0              40   <=50K  \n",
       "2  White  Male              0               0              80   <=50K  "
      ]
     },
     "execution_count": 51,
     "metadata": {},
     "output_type": "execute_result"
    }
   ],
   "source": [
    "#CensusData_2 = pd.concat([CensusData_2, dummy], axis =1)\n",
    "CensusData_2.head(3)"
   ]
  },
  {
   "cell_type": "code",
   "execution_count": 52,
   "metadata": {},
   "outputs": [
    {
     "data": {
      "text/html": [
       "<div>\n",
       "<style scoped>\n",
       "    .dataframe tbody tr th:only-of-type {\n",
       "        vertical-align: middle;\n",
       "    }\n",
       "\n",
       "    .dataframe tbody tr th {\n",
       "        vertical-align: top;\n",
       "    }\n",
       "\n",
       "    .dataframe thead th {\n",
       "        text-align: right;\n",
       "    }\n",
       "</style>\n",
       "<table border=\"1\" class=\"dataframe\">\n",
       "  <thead>\n",
       "    <tr style=\"text-align: right;\">\n",
       "      <th></th>\n",
       "      <th>AGE_x</th>\n",
       "      <th>CLASS-OF-WORKER</th>\n",
       "      <th>EDUCATION</th>\n",
       "      <th>MARITAL-STATUS</th>\n",
       "      <th>OCCUPATION-CODE</th>\n",
       "      <th>RACE</th>\n",
       "      <th>SEX</th>\n",
       "      <th>CAPITAL-GAINS_x</th>\n",
       "      <th>CAPITAL-LOSSES_x</th>\n",
       "      <th>HOURS-PER-WEEK_x</th>\n",
       "      <th>...</th>\n",
       "      <th>OCCUPATION-CODE_Protective-serv</th>\n",
       "      <th>OCCUPATION-CODE_Sales</th>\n",
       "      <th>OCCUPATION-CODE_Tech-support</th>\n",
       "      <th>OCCUPATION-CODE_Transport-moving</th>\n",
       "      <th>RACE_Asian-Pac-Islander</th>\n",
       "      <th>RACE_Black</th>\n",
       "      <th>RACE_Other</th>\n",
       "      <th>RACE_White</th>\n",
       "      <th>SEX_Male</th>\n",
       "      <th>R-CLASS_&gt;50K</th>\n",
       "    </tr>\n",
       "  </thead>\n",
       "  <tbody>\n",
       "    <tr>\n",
       "      <th>0</th>\n",
       "      <td>46</td>\n",
       "      <td>Private</td>\n",
       "      <td>Assoc-voc</td>\n",
       "      <td>Married-spouse-absent</td>\n",
       "      <td>Craft-repair</td>\n",
       "      <td>White</td>\n",
       "      <td>Male</td>\n",
       "      <td>0</td>\n",
       "      <td>0</td>\n",
       "      <td>40</td>\n",
       "      <td>...</td>\n",
       "      <td>0</td>\n",
       "      <td>0</td>\n",
       "      <td>0</td>\n",
       "      <td>0</td>\n",
       "      <td>0</td>\n",
       "      <td>0</td>\n",
       "      <td>0</td>\n",
       "      <td>1</td>\n",
       "      <td>1</td>\n",
       "      <td>0</td>\n",
       "    </tr>\n",
       "    <tr>\n",
       "      <th>1</th>\n",
       "      <td>24</td>\n",
       "      <td>Private</td>\n",
       "      <td>12th</td>\n",
       "      <td>Never-married</td>\n",
       "      <td>Craft-repair</td>\n",
       "      <td>White</td>\n",
       "      <td>Male</td>\n",
       "      <td>0</td>\n",
       "      <td>0</td>\n",
       "      <td>40</td>\n",
       "      <td>...</td>\n",
       "      <td>0</td>\n",
       "      <td>0</td>\n",
       "      <td>0</td>\n",
       "      <td>0</td>\n",
       "      <td>0</td>\n",
       "      <td>0</td>\n",
       "      <td>0</td>\n",
       "      <td>1</td>\n",
       "      <td>1</td>\n",
       "      <td>0</td>\n",
       "    </tr>\n",
       "    <tr>\n",
       "      <th>2</th>\n",
       "      <td>19</td>\n",
       "      <td>Private</td>\n",
       "      <td>7th-8th</td>\n",
       "      <td>Never-married</td>\n",
       "      <td>Adm-clerical</td>\n",
       "      <td>White</td>\n",
       "      <td>Male</td>\n",
       "      <td>0</td>\n",
       "      <td>0</td>\n",
       "      <td>80</td>\n",
       "      <td>...</td>\n",
       "      <td>0</td>\n",
       "      <td>0</td>\n",
       "      <td>0</td>\n",
       "      <td>0</td>\n",
       "      <td>0</td>\n",
       "      <td>0</td>\n",
       "      <td>0</td>\n",
       "      <td>1</td>\n",
       "      <td>1</td>\n",
       "      <td>0</td>\n",
       "    </tr>\n",
       "    <tr>\n",
       "      <th>3</th>\n",
       "      <td>35</td>\n",
       "      <td>Private</td>\n",
       "      <td>HS-grad</td>\n",
       "      <td>Married-civ-spouse</td>\n",
       "      <td>Sales</td>\n",
       "      <td>White</td>\n",
       "      <td>Male</td>\n",
       "      <td>0</td>\n",
       "      <td>1902</td>\n",
       "      <td>40</td>\n",
       "      <td>...</td>\n",
       "      <td>0</td>\n",
       "      <td>1</td>\n",
       "      <td>0</td>\n",
       "      <td>0</td>\n",
       "      <td>0</td>\n",
       "      <td>0</td>\n",
       "      <td>0</td>\n",
       "      <td>1</td>\n",
       "      <td>1</td>\n",
       "      <td>1</td>\n",
       "    </tr>\n",
       "    <tr>\n",
       "      <th>4</th>\n",
       "      <td>36</td>\n",
       "      <td>Local-gov</td>\n",
       "      <td>Bachelors</td>\n",
       "      <td>Never-married</td>\n",
       "      <td>Prof-specialty</td>\n",
       "      <td>Black</td>\n",
       "      <td>Male</td>\n",
       "      <td>0</td>\n",
       "      <td>0</td>\n",
       "      <td>35</td>\n",
       "      <td>...</td>\n",
       "      <td>0</td>\n",
       "      <td>0</td>\n",
       "      <td>0</td>\n",
       "      <td>0</td>\n",
       "      <td>0</td>\n",
       "      <td>1</td>\n",
       "      <td>0</td>\n",
       "      <td>0</td>\n",
       "      <td>1</td>\n",
       "      <td>0</td>\n",
       "    </tr>\n",
       "  </tbody>\n",
       "</table>\n",
       "<p>5 rows × 61 columns</p>\n",
       "</div>"
      ],
      "text/plain": [
       "   AGE_x CLASS-OF-WORKER  EDUCATION         MARITAL-STATUS OCCUPATION-CODE  \\\n",
       "0     46         Private  Assoc-voc  Married-spouse-absent    Craft-repair   \n",
       "1     24         Private       12th          Never-married    Craft-repair   \n",
       "2     19         Private    7th-8th          Never-married    Adm-clerical   \n",
       "3     35         Private    HS-grad     Married-civ-spouse           Sales   \n",
       "4     36       Local-gov  Bachelors          Never-married  Prof-specialty   \n",
       "\n",
       "    RACE   SEX  CAPITAL-GAINS_x  CAPITAL-LOSSES_x  HOURS-PER-WEEK_x  \\\n",
       "0  White  Male                0                 0                40   \n",
       "1  White  Male                0                 0                40   \n",
       "2  White  Male                0                 0                80   \n",
       "3  White  Male                0              1902                40   \n",
       "4  Black  Male                0                 0                35   \n",
       "\n",
       "       ...      OCCUPATION-CODE_Protective-serv  OCCUPATION-CODE_Sales  \\\n",
       "0      ...                                    0                      0   \n",
       "1      ...                                    0                      0   \n",
       "2      ...                                    0                      0   \n",
       "3      ...                                    0                      1   \n",
       "4      ...                                    0                      0   \n",
       "\n",
       "   OCCUPATION-CODE_Tech-support  OCCUPATION-CODE_Transport-moving  \\\n",
       "0                             0                                 0   \n",
       "1                             0                                 0   \n",
       "2                             0                                 0   \n",
       "3                             0                                 0   \n",
       "4                             0                                 0   \n",
       "\n",
       "   RACE_Asian-Pac-Islander  RACE_Black  RACE_Other  RACE_White  SEX_Male  \\\n",
       "0                        0           0           0           1         1   \n",
       "1                        0           0           0           1         1   \n",
       "2                        0           0           0           1         1   \n",
       "3                        0           0           0           1         1   \n",
       "4                        0           1           0           0         1   \n",
       "\n",
       "   R-CLASS_>50K  \n",
       "0             0  \n",
       "1             0  \n",
       "2             0  \n",
       "3             1  \n",
       "4             0  \n",
       "\n",
       "[5 rows x 61 columns]"
      ]
     },
     "execution_count": 52,
     "metadata": {},
     "output_type": "execute_result"
    }
   ],
   "source": [
    "CensusData_2 = CensusData_2.merge(dummy, left_index=True, right_index = True)\n",
    "CensusData_2.head(5)"
   ]
  },
  {
   "cell_type": "code",
   "execution_count": 53,
   "metadata": {},
   "outputs": [
    {
     "data": {
      "text/plain": [
       "Index(['AGE_x', 'CLASS-OF-WORKER', 'EDUCATION', 'MARITAL-STATUS',\n",
       "       'OCCUPATION-CODE', 'RACE', 'SEX', 'CAPITAL-GAINS_x', 'CAPITAL-LOSSES_x',\n",
       "       'HOURS-PER-WEEK_x', 'R-CLASS', 'AGE_y', 'CAPITAL-GAINS_y',\n",
       "       'CAPITAL-LOSSES_y', 'HOURS-PER-WEEK_y', 'CLASS-OF-WORKER_Local-gov',\n",
       "       'CLASS-OF-WORKER_Private', 'CLASS-OF-WORKER_Self-emp-inc',\n",
       "       'CLASS-OF-WORKER_Self-emp-not-inc', 'CLASS-OF-WORKER_State-gov',\n",
       "       'CLASS-OF-WORKER_Without-pay', 'EDUCATION_11th', 'EDUCATION_12th',\n",
       "       'EDUCATION_1st-4th', 'EDUCATION_5th-6th', 'EDUCATION_7th-8th',\n",
       "       'EDUCATION_9th', 'EDUCATION_Assoc-acdm', 'EDUCATION_Assoc-voc',\n",
       "       'EDUCATION_Bachelors', 'EDUCATION_Doctorate', 'EDUCATION_HS-grad',\n",
       "       'EDUCATION_Masters', 'EDUCATION_Preschool', 'EDUCATION_Prof-school',\n",
       "       'EDUCATION_Some-college', 'MARITAL-STATUS_Married-AF-spouse',\n",
       "       'MARITAL-STATUS_Married-civ-spouse',\n",
       "       'MARITAL-STATUS_Married-spouse-absent', 'MARITAL-STATUS_Never-married',\n",
       "       'MARITAL-STATUS_Separated', 'MARITAL-STATUS_Widowed',\n",
       "       'OCCUPATION-CODE_Armed-Forces', 'OCCUPATION-CODE_Craft-repair',\n",
       "       'OCCUPATION-CODE_Exec-managerial', 'OCCUPATION-CODE_Farming-fishing',\n",
       "       'OCCUPATION-CODE_Handlers-cleaners',\n",
       "       'OCCUPATION-CODE_Machine-op-inspct', 'OCCUPATION-CODE_Other-service',\n",
       "       'OCCUPATION-CODE_Priv-house-serv', 'OCCUPATION-CODE_Prof-specialty',\n",
       "       'OCCUPATION-CODE_Protective-serv', 'OCCUPATION-CODE_Sales',\n",
       "       'OCCUPATION-CODE_Tech-support', 'OCCUPATION-CODE_Transport-moving',\n",
       "       'RACE_Asian-Pac-Islander', 'RACE_Black', 'RACE_Other', 'RACE_White',\n",
       "       'SEX_Male', 'R-CLASS_>50K'],\n",
       "      dtype='object')"
      ]
     },
     "execution_count": 53,
     "metadata": {},
     "output_type": "execute_result"
    }
   ],
   "source": [
    "CensusData_2.columns"
   ]
  },
  {
   "cell_type": "code",
   "execution_count": 54,
   "metadata": {},
   "outputs": [
    {
     "data": {
      "text/plain": [
       "Index(['AGE_x', 'EDUCATION', 'MARITAL-STATUS', 'OCCUPATION-CODE', 'RACE',\n",
       "       'SEX', 'CAPITAL-GAINS_x', 'CAPITAL-LOSSES_x', 'HOURS-PER-WEEK_x',\n",
       "       'R-CLASS', 'AGE_y', 'CAPITAL-GAINS_y', 'CAPITAL-LOSSES_y',\n",
       "       'HOURS-PER-WEEK_y', 'CLASS-OF-WORKER_Local-gov',\n",
       "       'CLASS-OF-WORKER_Private', 'CLASS-OF-WORKER_Self-emp-inc',\n",
       "       'CLASS-OF-WORKER_Self-emp-not-inc', 'CLASS-OF-WORKER_State-gov',\n",
       "       'CLASS-OF-WORKER_Without-pay', 'EDUCATION_11th', 'EDUCATION_12th',\n",
       "       'EDUCATION_1st-4th', 'EDUCATION_5th-6th', 'EDUCATION_7th-8th',\n",
       "       'EDUCATION_9th', 'EDUCATION_Assoc-acdm', 'EDUCATION_Assoc-voc',\n",
       "       'EDUCATION_Bachelors', 'EDUCATION_Doctorate', 'EDUCATION_HS-grad',\n",
       "       'EDUCATION_Masters', 'EDUCATION_Preschool', 'EDUCATION_Prof-school',\n",
       "       'EDUCATION_Some-college', 'MARITAL-STATUS_Married-AF-spouse',\n",
       "       'MARITAL-STATUS_Married-civ-spouse',\n",
       "       'MARITAL-STATUS_Married-spouse-absent', 'MARITAL-STATUS_Never-married',\n",
       "       'MARITAL-STATUS_Separated', 'MARITAL-STATUS_Widowed',\n",
       "       'OCCUPATION-CODE_Armed-Forces', 'OCCUPATION-CODE_Craft-repair',\n",
       "       'OCCUPATION-CODE_Exec-managerial', 'OCCUPATION-CODE_Farming-fishing',\n",
       "       'OCCUPATION-CODE_Handlers-cleaners',\n",
       "       'OCCUPATION-CODE_Machine-op-inspct', 'OCCUPATION-CODE_Other-service',\n",
       "       'OCCUPATION-CODE_Priv-house-serv', 'OCCUPATION-CODE_Prof-specialty',\n",
       "       'OCCUPATION-CODE_Protective-serv', 'OCCUPATION-CODE_Sales',\n",
       "       'OCCUPATION-CODE_Tech-support', 'OCCUPATION-CODE_Transport-moving',\n",
       "       'RACE_Asian-Pac-Islander', 'RACE_Black', 'RACE_Other', 'RACE_White',\n",
       "       'SEX_Male', 'R-CLASS_>50K'],\n",
       "      dtype='object')"
      ]
     },
     "execution_count": 54,
     "metadata": {},
     "output_type": "execute_result"
    }
   ],
   "source": [
    "CensusData_2 = CensusData_2.drop('CLASS-OF-WORKER',1)\n",
    "CensusData_2.columns\n"
   ]
  },
  {
   "cell_type": "code",
   "execution_count": 55,
   "metadata": {},
   "outputs": [],
   "source": [
    "CensusData_2 = CensusData_2.drop('AGE_x', 1) "
   ]
  },
  {
   "cell_type": "code",
   "execution_count": 56,
   "metadata": {},
   "outputs": [],
   "source": [
    "CensusData_2 = CensusData_2.drop('CAPITAL-GAINS_x', 1) "
   ]
  },
  {
   "cell_type": "code",
   "execution_count": 57,
   "metadata": {},
   "outputs": [],
   "source": [
    "CensusData_2 = CensusData_2.drop('CAPITAL-LOSSES_x', 1) "
   ]
  },
  {
   "cell_type": "code",
   "execution_count": 58,
   "metadata": {},
   "outputs": [],
   "source": [
    "CensusData_2 = CensusData_2.drop('HOURS-PER-WEEK_x',1)"
   ]
  },
  {
   "cell_type": "code",
   "execution_count": 59,
   "metadata": {},
   "outputs": [],
   "source": [
    "CensusData_2 = CensusData_2.drop('EDUCATION', 1) \n"
   ]
  },
  {
   "cell_type": "code",
   "execution_count": 60,
   "metadata": {},
   "outputs": [],
   "source": [
    "CensusData_2 = CensusData_2.drop('MARITAL-STATUS', 1) \n"
   ]
  },
  {
   "cell_type": "code",
   "execution_count": 61,
   "metadata": {},
   "outputs": [],
   "source": [
    "\n",
    "CensusData_2 = CensusData_2.drop('OCCUPATION-CODE',1) \n",
    "\n",
    " "
   ]
  },
  {
   "cell_type": "code",
   "execution_count": 62,
   "metadata": {},
   "outputs": [],
   "source": [
    "CensusData_2 = CensusData_2.drop('SEX',1) "
   ]
  },
  {
   "cell_type": "code",
   "execution_count": 63,
   "metadata": {},
   "outputs": [],
   "source": [
    "CensusData_2 = CensusData_2.drop('RACE',1) "
   ]
  },
  {
   "cell_type": "code",
   "execution_count": 64,
   "metadata": {},
   "outputs": [],
   "source": [
    "CensusData_2 = CensusData_2.drop('R-CLASS',1)"
   ]
  },
  {
   "cell_type": "code",
   "execution_count": 66,
   "metadata": {},
   "outputs": [
    {
     "data": {
      "text/plain": [
       "<seaborn.axisgrid.FacetGrid at 0x22d1f8ce978>"
      ]
     },
     "execution_count": 66,
     "metadata": {},
     "output_type": "execute_result"
    },
    {
     "data": {
      "image/png": "[encoded data removed]",
      "text/plain": [
       "<Figure size 442.625x360 with 1 Axes>"
      ]
     },
     "metadata": {
      "needs_background": "light"
     },
     "output_type": "display_data"
    }
   ],
   "source": [
    "# Survived vs. Age grouped by Sex\n",
    "#sns.lmplot('AGE_y', 'R-CLASS_>50K', data=CensusData_2, hue='SEX_Male')\n",
    "generations = [10,20,40,50,60,70,80,90]\n",
    "sns.lmplot('SEX_Male','AGE_y',hue='R-CLASS_>50K',data=CensusData_2,x_bins=generations, hue_order=[1,2])"
   ]
  },
  {
   "cell_type": "code",
   "execution_count": 68,
   "metadata": {},
   "outputs": [
    {
     "data": {
      "text/plain": [
       "50"
      ]
     },
     "execution_count": 68,
     "metadata": {},
     "output_type": "execute_result"
    }
   ],
   "source": [
    "CensusData_2.columns\n",
    "len(CensusData_2.columns)"
   ]
  },
  {
   "cell_type": "code",
   "execution_count": 69,
   "metadata": {},
   "outputs": [
    {
     "name": "stdout",
     "output_type": "stream",
     "text": [
      "Summary of feature sample\n",
      "Index(['AGE_y', 'CAPITAL-GAINS_y', 'CAPITAL-LOSSES_y', 'HOURS-PER-WEEK_y',\n",
      "       'CLASS-OF-WORKER_Local-gov', 'CLASS-OF-WORKER_Private',\n",
      "       'CLASS-OF-WORKER_Self-emp-inc', 'CLASS-OF-WORKER_Self-emp-not-inc',\n",
      "       'CLASS-OF-WORKER_State-gov', 'CLASS-OF-WORKER_Without-pay',\n",
      "       'EDUCATION_11th', 'EDUCATION_12th', 'EDUCATION_1st-4th',\n",
      "       'EDUCATION_5th-6th', 'EDUCATION_7th-8th', 'EDUCATION_9th',\n",
      "       'EDUCATION_Assoc-acdm', 'EDUCATION_Assoc-voc', 'EDUCATION_Bachelors',\n",
      "       'EDUCATION_Doctorate', 'EDUCATION_HS-grad', 'EDUCATION_Masters',\n",
      "       'EDUCATION_Preschool', 'EDUCATION_Prof-school',\n",
      "       'EDUCATION_Some-college', 'MARITAL-STATUS_Married-AF-spouse',\n",
      "       'MARITAL-STATUS_Married-civ-spouse',\n",
      "       'MARITAL-STATUS_Married-spouse-absent', 'MARITAL-STATUS_Never-married',\n",
      "       'MARITAL-STATUS_Separated', 'MARITAL-STATUS_Widowed',\n",
      "       'OCCUPATION-CODE_Armed-Forces', 'OCCUPATION-CODE_Craft-repair',\n",
      "       'OCCUPATION-CODE_Exec-managerial', 'OCCUPATION-CODE_Farming-fishing',\n",
      "       'OCCUPATION-CODE_Handlers-cleaners',\n",
      "       'OCCUPATION-CODE_Machine-op-inspct', 'OCCUPATION-CODE_Other-service',\n",
      "       'OCCUPATION-CODE_Priv-house-serv', 'OCCUPATION-CODE_Prof-specialty',\n",
      "       'OCCUPATION-CODE_Protective-serv', 'OCCUPATION-CODE_Sales',\n",
      "       'OCCUPATION-CODE_Tech-support', 'OCCUPATION-CODE_Transport-moving',\n",
      "       'RACE_Asian-Pac-Islander', 'RACE_Black', 'RACE_Other', 'RACE_White',\n",
      "       'SEX_Male', 'R-CLASS_>50K'],\n",
      "      dtype='object')\n"
     ]
    },
    {
     "data": {
      "text/html": [
       "<div>\n",
       "<style scoped>\n",
       "    .dataframe tbody tr th:only-of-type {\n",
       "        vertical-align: middle;\n",
       "    }\n",
       "\n",
       "    .dataframe tbody tr th {\n",
       "        vertical-align: top;\n",
       "    }\n",
       "\n",
       "    .dataframe thead th {\n",
       "        text-align: right;\n",
       "    }\n",
       "</style>\n",
       "<table border=\"1\" class=\"dataframe\">\n",
       "  <thead>\n",
       "    <tr style=\"text-align: right;\">\n",
       "      <th></th>\n",
       "      <th>AGE_y</th>\n",
       "      <th>CAPITAL-GAINS_y</th>\n",
       "      <th>CAPITAL-LOSSES_y</th>\n",
       "      <th>HOURS-PER-WEEK_y</th>\n",
       "      <th>CLASS-OF-WORKER_Local-gov</th>\n",
       "      <th>CLASS-OF-WORKER_Private</th>\n",
       "      <th>CLASS-OF-WORKER_Self-emp-inc</th>\n",
       "      <th>CLASS-OF-WORKER_Self-emp-not-inc</th>\n",
       "      <th>CLASS-OF-WORKER_State-gov</th>\n",
       "      <th>CLASS-OF-WORKER_Without-pay</th>\n",
       "      <th>...</th>\n",
       "      <th>OCCUPATION-CODE_Priv-house-serv</th>\n",
       "      <th>OCCUPATION-CODE_Prof-specialty</th>\n",
       "      <th>OCCUPATION-CODE_Protective-serv</th>\n",
       "      <th>OCCUPATION-CODE_Sales</th>\n",
       "      <th>OCCUPATION-CODE_Tech-support</th>\n",
       "      <th>OCCUPATION-CODE_Transport-moving</th>\n",
       "      <th>RACE_Asian-Pac-Islander</th>\n",
       "      <th>RACE_Black</th>\n",
       "      <th>RACE_Other</th>\n",
       "      <th>RACE_White</th>\n",
       "    </tr>\n",
       "  </thead>\n",
       "  <tbody>\n",
       "    <tr>\n",
       "      <th>0</th>\n",
       "      <td>46</td>\n",
       "      <td>0</td>\n",
       "      <td>0</td>\n",
       "      <td>40</td>\n",
       "      <td>0</td>\n",
       "      <td>1</td>\n",
       "      <td>0</td>\n",
       "      <td>0</td>\n",
       "      <td>0</td>\n",
       "      <td>0</td>\n",
       "      <td>...</td>\n",
       "      <td>0</td>\n",
       "      <td>0</td>\n",
       "      <td>0</td>\n",
       "      <td>0</td>\n",
       "      <td>0</td>\n",
       "      <td>0</td>\n",
       "      <td>0</td>\n",
       "      <td>0</td>\n",
       "      <td>0</td>\n",
       "      <td>1</td>\n",
       "    </tr>\n",
       "    <tr>\n",
       "      <th>1</th>\n",
       "      <td>24</td>\n",
       "      <td>0</td>\n",
       "      <td>0</td>\n",
       "      <td>40</td>\n",
       "      <td>0</td>\n",
       "      <td>1</td>\n",
       "      <td>0</td>\n",
       "      <td>0</td>\n",
       "      <td>0</td>\n",
       "      <td>0</td>\n",
       "      <td>...</td>\n",
       "      <td>0</td>\n",
       "      <td>0</td>\n",
       "      <td>0</td>\n",
       "      <td>0</td>\n",
       "      <td>0</td>\n",
       "      <td>0</td>\n",
       "      <td>0</td>\n",
       "      <td>0</td>\n",
       "      <td>0</td>\n",
       "      <td>1</td>\n",
       "    </tr>\n",
       "    <tr>\n",
       "      <th>2</th>\n",
       "      <td>19</td>\n",
       "      <td>0</td>\n",
       "      <td>0</td>\n",
       "      <td>80</td>\n",
       "      <td>0</td>\n",
       "      <td>1</td>\n",
       "      <td>0</td>\n",
       "      <td>0</td>\n",
       "      <td>0</td>\n",
       "      <td>0</td>\n",
       "      <td>...</td>\n",
       "      <td>0</td>\n",
       "      <td>0</td>\n",
       "      <td>0</td>\n",
       "      <td>0</td>\n",
       "      <td>0</td>\n",
       "      <td>0</td>\n",
       "      <td>0</td>\n",
       "      <td>0</td>\n",
       "      <td>0</td>\n",
       "      <td>1</td>\n",
       "    </tr>\n",
       "    <tr>\n",
       "      <th>3</th>\n",
       "      <td>35</td>\n",
       "      <td>0</td>\n",
       "      <td>1902</td>\n",
       "      <td>40</td>\n",
       "      <td>0</td>\n",
       "      <td>1</td>\n",
       "      <td>0</td>\n",
       "      <td>0</td>\n",
       "      <td>0</td>\n",
       "      <td>0</td>\n",
       "      <td>...</td>\n",
       "      <td>0</td>\n",
       "      <td>0</td>\n",
       "      <td>0</td>\n",
       "      <td>1</td>\n",
       "      <td>0</td>\n",
       "      <td>0</td>\n",
       "      <td>0</td>\n",
       "      <td>0</td>\n",
       "      <td>0</td>\n",
       "      <td>1</td>\n",
       "    </tr>\n",
       "    <tr>\n",
       "      <th>4</th>\n",
       "      <td>36</td>\n",
       "      <td>0</td>\n",
       "      <td>0</td>\n",
       "      <td>35</td>\n",
       "      <td>1</td>\n",
       "      <td>0</td>\n",
       "      <td>0</td>\n",
       "      <td>0</td>\n",
       "      <td>0</td>\n",
       "      <td>0</td>\n",
       "      <td>...</td>\n",
       "      <td>0</td>\n",
       "      <td>1</td>\n",
       "      <td>0</td>\n",
       "      <td>0</td>\n",
       "      <td>0</td>\n",
       "      <td>0</td>\n",
       "      <td>0</td>\n",
       "      <td>1</td>\n",
       "      <td>0</td>\n",
       "      <td>0</td>\n",
       "    </tr>\n",
       "  </tbody>\n",
       "</table>\n",
       "<p>5 rows × 48 columns</p>\n",
       "</div>"
      ],
      "text/plain": [
       "   AGE_y  CAPITAL-GAINS_y  CAPITAL-LOSSES_y  HOURS-PER-WEEK_y  \\\n",
       "0     46                0                 0                40   \n",
       "1     24                0                 0                40   \n",
       "2     19                0                 0                80   \n",
       "3     35                0              1902                40   \n",
       "4     36                0                 0                35   \n",
       "\n",
       "   CLASS-OF-WORKER_Local-gov  CLASS-OF-WORKER_Private  \\\n",
       "0                          0                        1   \n",
       "1                          0                        1   \n",
       "2                          0                        1   \n",
       "3                          0                        1   \n",
       "4                          1                        0   \n",
       "\n",
       "   CLASS-OF-WORKER_Self-emp-inc  CLASS-OF-WORKER_Self-emp-not-inc  \\\n",
       "0                             0                                 0   \n",
       "1                             0                                 0   \n",
       "2                             0                                 0   \n",
       "3                             0                                 0   \n",
       "4                             0                                 0   \n",
       "\n",
       "   CLASS-OF-WORKER_State-gov  CLASS-OF-WORKER_Without-pay     ...      \\\n",
       "0                          0                            0     ...       \n",
       "1                          0                            0     ...       \n",
       "2                          0                            0     ...       \n",
       "3                          0                            0     ...       \n",
       "4                          0                            0     ...       \n",
       "\n",
       "   OCCUPATION-CODE_Priv-house-serv  OCCUPATION-CODE_Prof-specialty  \\\n",
       "0                                0                               0   \n",
       "1                                0                               0   \n",
       "2                                0                               0   \n",
       "3                                0                               0   \n",
       "4                                0                               1   \n",
       "\n",
       "   OCCUPATION-CODE_Protective-serv  OCCUPATION-CODE_Sales  \\\n",
       "0                                0                      0   \n",
       "1                                0                      0   \n",
       "2                                0                      0   \n",
       "3                                0                      1   \n",
       "4                                0                      0   \n",
       "\n",
       "   OCCUPATION-CODE_Tech-support  OCCUPATION-CODE_Transport-moving  \\\n",
       "0                             0                                 0   \n",
       "1                             0                                 0   \n",
       "2                             0                                 0   \n",
       "3                             0                                 0   \n",
       "4                             0                                 0   \n",
       "\n",
       "   RACE_Asian-Pac-Islander  RACE_Black  RACE_Other  RACE_White  \n",
       "0                        0           0           0           1  \n",
       "1                        0           0           0           1  \n",
       "2                        0           0           0           1  \n",
       "3                        0           0           0           1  \n",
       "4                        0           1           0           0  \n",
       "\n",
       "[5 rows x 48 columns]"
      ]
     },
     "execution_count": 69,
     "metadata": {},
     "output_type": "execute_result"
    }
   ],
   "source": [
    "#features\n",
    "features = CensusData_2.iloc[:,0:48]\n",
    "print('Summary of feature sample')\n",
    "features.head()\n",
    "\n",
    "print(CensusData_2.keys())\n",
    "\n",
    "depVar = CensusData_2['R-CLASS_>50K']\n",
    "# build train and test dataset\n",
    "#X_train, X_test, y_train, y_test = train_test_split(X, y, test_size = 0.4, random_state = 100)\n",
    "\n",
    "#X = CensusData_2.iloc[:,1:100]\n",
    "#Y = CensusData_2.iloc[:,100:101]\n",
    "\n",
    "#Training Set (Feature Space: X Training)\n",
    "X_train = (features[: 15000])\n",
    "X_train.head()"
   ]
  },
  {
   "cell_type": "code",
   "execution_count": 70,
   "metadata": {},
   "outputs": [
    {
     "name": "stdout",
     "output_type": "stream",
     "text": [
      "The number of observations in the Y training set are: 15000\n"
     ]
    },
    {
     "data": {
      "text/plain": [
       "0    0\n",
       "1    0\n",
       "2    0\n",
       "3    1\n",
       "4    0\n",
       "Name: R-CLASS_>50K, dtype: uint8"
      ]
     },
     "execution_count": 70,
     "metadata": {},
     "output_type": "execute_result"
    }
   ],
   "source": [
    "#Dependent Variable Training Set (y Training)\n",
    "y_train = depVar[: 15000]\n",
    "y_train_count = len(y_train.index)\n",
    "print('The number of observations in the Y training set are:',str(y_train_count))\n",
    "y_train.head()"
   ]
  },
  {
   "cell_type": "code",
   "execution_count": 71,
   "metadata": {},
   "outputs": [
    {
     "name": "stdout",
     "output_type": "stream",
     "text": [
      "The number of observations in the feature testing set is: 6000\n",
      "       AGE_y  CAPITAL-GAINS_y  CAPITAL-LOSSES_y  HOURS-PER-WEEK_y  \\\n",
      "19698     26                0                 0                40   \n",
      "19699     53                0              1740                40   \n",
      "19700     36                0                 0                40   \n",
      "19701     30             4787                 0                45   \n",
      "19702     53                0                 0                40   \n",
      "\n",
      "       CLASS-OF-WORKER_Local-gov  CLASS-OF-WORKER_Private  \\\n",
      "19698                          1                        0   \n",
      "19699                          0                        1   \n",
      "19700                          1                        0   \n",
      "19701                          0                        1   \n",
      "19702                          1                        0   \n",
      "\n",
      "       CLASS-OF-WORKER_Self-emp-inc  CLASS-OF-WORKER_Self-emp-not-inc  \\\n",
      "19698                             0                                 0   \n",
      "19699                             0                                 0   \n",
      "19700                             0                                 0   \n",
      "19701                             0                                 0   \n",
      "19702                             0                                 0   \n",
      "\n",
      "       CLASS-OF-WORKER_State-gov  CLASS-OF-WORKER_Without-pay     ...      \\\n",
      "19698                          0                            0     ...       \n",
      "19699                          0                            0     ...       \n",
      "19700                          0                            0     ...       \n",
      "19701                          0                            0     ...       \n",
      "19702                          0                            0     ...       \n",
      "\n",
      "       OCCUPATION-CODE_Priv-house-serv  OCCUPATION-CODE_Prof-specialty  \\\n",
      "19698                                0                               0   \n",
      "19699                                0                               0   \n",
      "19700                                0                               1   \n",
      "19701                                0                               0   \n",
      "19702                                0                               0   \n",
      "\n",
      "       OCCUPATION-CODE_Protective-serv  OCCUPATION-CODE_Sales  \\\n",
      "19698                                0                      0   \n",
      "19699                                0                      0   \n",
      "19700                                0                      0   \n",
      "19701                                0                      0   \n",
      "19702                                0                      0   \n",
      "\n",
      "       OCCUPATION-CODE_Tech-support  OCCUPATION-CODE_Transport-moving  \\\n",
      "19698                             1                                 0   \n",
      "19699                             0                                 0   \n",
      "19700                             0                                 0   \n",
      "19701                             1                                 0   \n",
      "19702                             0                                 0   \n",
      "\n",
      "       RACE_Asian-Pac-Islander  RACE_Black  RACE_Other  RACE_White  \n",
      "19698                        0           0           0           1  \n",
      "19699                        0           0           0           1  \n",
      "19700                        0           0           0           1  \n",
      "19701                        0           0           0           1  \n",
      "19702                        0           0           0           1  \n",
      "\n",
      "[5 rows x 48 columns]\n"
     ]
    }
   ],
   "source": [
    "#Testing Set (X Testing)\n",
    "X_test = features[-6000:]\n",
    "X_test_count = len(X_test.index)\n",
    "print('The number of observations in the feature testing set is:',str(X_test_count))\n",
    "print(X_test.head())"
   ]
  },
  {
   "cell_type": "code",
   "execution_count": 72,
   "metadata": {},
   "outputs": [
    {
     "name": "stdout",
     "output_type": "stream",
     "text": [
      "The number of observations in the Y training set are: 6000\n"
     ]
    },
    {
     "data": {
      "text/plain": [
       "19698    0\n",
       "19699    0\n",
       "19700    0\n",
       "19701    1\n",
       "19702    0\n",
       "Name: R-CLASS_>50K, dtype: uint8"
      ]
     },
     "execution_count": 72,
     "metadata": {},
     "output_type": "execute_result"
    }
   ],
   "source": [
    "#Ground Truth (y_test) \n",
    "y_test = depVar[-6000:]\n",
    "y_test_count = len(y_test.index)\n",
    "print('The number of observations in the Y training set are:',str(y_test_count))\n",
    "y_test.head()"
   ]
  },
  {
   "cell_type": "code",
   "execution_count": 73,
   "metadata": {},
   "outputs": [
    {
     "data": {
      "text/plain": [
       "((11250, 48), (3750, 48), (11250,), (3750,))"
      ]
     },
     "execution_count": 73,
     "metadata": {},
     "output_type": "execute_result"
    }
   ],
   "source": [
    "X_train, X_test, y_train, y_test = train_test_split(X_train, y_train)\n",
    "X_train.shape, X_test.shape, y_train.shape , y_test.shape"
   ]
  },
  {
   "cell_type": "code",
   "execution_count": 74,
   "metadata": {},
   "outputs": [
    {
     "name": "stderr",
     "output_type": "stream",
     "text": [
      "C:\\ProgramData\\Anaconda3\\lib\\site-packages\\sklearn\\model_selection\\_split.py:2053: FutureWarning: You should specify a value for 'cv' instead of relying on the default value. The default value will change from 3 to 5 in version 0.22.\n",
      "  warnings.warn(CV_WARNING, FutureWarning)\n",
      "C:\\ProgramData\\Anaconda3\\lib\\site-packages\\sklearn\\model_selection\\_split.py:2053: FutureWarning: You should specify a value for 'cv' instead of relying on the default value. The default value will change from 3 to 5 in version 0.22.\n",
      "  warnings.warn(CV_WARNING, FutureWarning)\n"
     ]
    },
    {
     "name": "stdout",
     "output_type": "stream",
     "text": [
      "CROSS VAL KNN1: [0.77366036 0.7736     0.76740464]\n",
      "Accuracy KNN1: 0.7818666666666667\n",
      "KAPPA KNN1: 0.4645868023919486\n",
      "AccuracyKNN1: 0.77 (+/- 0.01)\n"
     ]
    }
   ],
   "source": [
    "#Models\n",
    "modelKNN1 = KNeighborsClassifier(n_neighbors=1)\n",
    "modelKNN1.fit(X_train,y_train)\n",
    "KNNFit1 = modelKNN1.fit(X_train,y_train)\n",
    "scoresKNN1= cross_val_score(modelKNN1, X_train, y_train)\n",
    "print(\"CROSS VAL KNN1:\",cross_val_score(modelKNN1, X_train, y_train))\n",
    "predictions1 = modelKNN1.predict(X_test)\n",
    "##print(predictions1)\n",
    "print(\"Accuracy KNN1:\",accuracy_score(y_test, predictions1))\n",
    "#predictions1\n",
    "#modelKNN1\n",
    "cohen_kappa_score(y_test, predictions1)\n",
    "print(\"KAPPA KNN1:\",cohen_kappa_score(y_test, predictions1))\n",
    "print(\"AccuracyKNN1: %0.2f (+/- %0.2f)\" % (scoresKNN1.mean(), scoresKNN1.std() * 2))"
   ]
  },
  {
   "cell_type": "code",
   "execution_count": 75,
   "metadata": {},
   "outputs": [
    {
     "name": "stderr",
     "output_type": "stream",
     "text": [
      "C:\\ProgramData\\Anaconda3\\lib\\site-packages\\sklearn\\model_selection\\_split.py:2053: FutureWarning: You should specify a value for 'cv' instead of relying on the default value. The default value will change from 3 to 5 in version 0.22.\n",
      "  warnings.warn(CV_WARNING, FutureWarning)\n",
      "C:\\ProgramData\\Anaconda3\\lib\\site-packages\\sklearn\\model_selection\\_split.py:2053: FutureWarning: You should specify a value for 'cv' instead of relying on the default value. The default value will change from 3 to 5 in version 0.22.\n",
      "  warnings.warn(CV_WARNING, FutureWarning)\n"
     ]
    },
    {
     "name": "stdout",
     "output_type": "stream",
     "text": [
      "CROSS VAL KNN3: [0.79658758 0.79733333 0.79781275]\n",
      "Accuracy KNN3: 0.8096\n",
      "KAPPA KNN3: 0.5147849686454138\n",
      "AccuracyKNN3: 0.80 (+/- 0.00)\n"
     ]
    }
   ],
   "source": [
    "#Models\n",
    "modelKNN3 = KNeighborsClassifier(n_neighbors=3)\n",
    "modelKNN3.fit(X_train,y_train)\n",
    "KNNFit = modelKNN3.fit(X_train,y_train)\n",
    "scoresKNN3= cross_val_score(modelKNN3, X_train, y_train)\n",
    "print(\"CROSS VAL KNN3:\",cross_val_score(modelKNN3, X_train, y_train))\n",
    "\n",
    "predictions3 = modelKNN3.predict(X_test)\n",
    "##print(predictions3)\n",
    "print(\"Accuracy KNN3:\",accuracy_score(y_test, predictions3))\n",
    "print(\"KAPPA KNN3:\",cohen_kappa_score(y_test, predictions3))\n",
    "print(\"AccuracyKNN3: %0.2f (+/- %0.2f)\" % (scoresKNN3.mean(), scoresKNN3.std() * 2))"
   ]
  },
  {
   "cell_type": "code",
   "execution_count": 76,
   "metadata": {},
   "outputs": [
    {
     "name": "stderr",
     "output_type": "stream",
     "text": [
      "C:\\ProgramData\\Anaconda3\\lib\\site-packages\\sklearn\\model_selection\\_split.py:2053: FutureWarning: You should specify a value for 'cv' instead of relying on the default value. The default value will change from 3 to 5 in version 0.22.\n",
      "  warnings.warn(CV_WARNING, FutureWarning)\n",
      "C:\\ProgramData\\Anaconda3\\lib\\site-packages\\sklearn\\model_selection\\_split.py:2053: FutureWarning: You should specify a value for 'cv' instead of relying on the default value. The default value will change from 3 to 5 in version 0.22.\n",
      "  warnings.warn(CV_WARNING, FutureWarning)\n"
     ]
    },
    {
     "name": "stdout",
     "output_type": "stream",
     "text": [
      "CROSS VAL KNN5: [0.79712077 0.8064     0.79941318]\n",
      "Accuracy KNN5: 0.8168\n",
      "KAPPA KNN5: 0.5226806587701698\n",
      "AccuracyKNN5: 0.80 (+/- 0.01)\n"
     ]
    }
   ],
   "source": [
    "#Model KNN5\n",
    "modelKNN5 = KNeighborsClassifier(n_neighbors=5)\n",
    "modelKNN5.fit(X_train,y_train)\n",
    "KNNFit5 = modelKNN5.fit(X_train,y_train)\n",
    "scoresKNN5= cross_val_score(modelKNN5, X_train, y_train)\n",
    "print(\"CROSS VAL KNN5:\",cross_val_score(modelKNN5, X_train, y_train))\n",
    "predictions5 = modelKNN5.predict(X_test)\n",
    "#print(predictions5)\n",
    "predictions5\n",
    "modelKNN5\n",
    "cohen_kappa_score(y_test, predictions5)\n",
    "print(\"Accuracy KNN5:\",accuracy_score(y_test, predictions5))\n",
    "print(\"KAPPA KNN5:\",cohen_kappa_score(y_test, predictions5))\n",
    "print(\"AccuracyKNN5: %0.2f (+/- %0.2f)\" % (scoresKNN5.mean(), scoresKNN5.std() * 2))\n"
   ]
  },
  {
   "cell_type": "code",
   "execution_count": 77,
   "metadata": {},
   "outputs": [
    {
     "name": "stderr",
     "output_type": "stream",
     "text": [
      "C:\\ProgramData\\Anaconda3\\lib\\site-packages\\sklearn\\model_selection\\_split.py:2053: FutureWarning: You should specify a value for 'cv' instead of relying on the default value. The default value will change from 3 to 5 in version 0.22.\n",
      "  warnings.warn(CV_WARNING, FutureWarning)\n",
      "C:\\ProgramData\\Anaconda3\\lib\\site-packages\\sklearn\\model_selection\\_split.py:2053: FutureWarning: You should specify a value for 'cv' instead of relying on the default value. The default value will change from 3 to 5 in version 0.22.\n",
      "  warnings.warn(CV_WARNING, FutureWarning)\n"
     ]
    },
    {
     "name": "stdout",
     "output_type": "stream",
     "text": [
      "CROSS VAL KNN7: [0.80565183 0.80986667 0.80448119]\n",
      "Accuracy KNN7: 0.8234666666666667\n",
      "KAPPA KNN7: 0.5322325236794919\n",
      "AccuracyKNN7: 0.81 (+/- 0.00)\n"
     ]
    }
   ],
   "source": [
    "#Models\n",
    "modelKNN7 = KNeighborsClassifier(n_neighbors=7)\n",
    "modelKNN7.fit(X_train,y_train)\n",
    "KNNFit7 = modelKNN7.fit(X_train,y_train)\n",
    "scoresKNN7= cross_val_score(modelKNN7, X_train, y_train)\n",
    "print(\"CROSS VAL KNN7:\",cross_val_score(modelKNN7, X_train, y_train))\n",
    "\n",
    "predictions7 = modelKNN7.predict(X_test)\n",
    "print(\"Accuracy KNN7:\",accuracy_score(y_test, predictions7))\n",
    "##predictions7\n",
    "##modelKNN7\n",
    "print(\"KAPPA KNN7:\",cohen_kappa_score(y_test, predictions7))\n",
    "print(\"AccuracyKNN7: %0.2f (+/- %0.2f)\" % (scoresKNN7.mean(), scoresKNN7.std() * 2))\n"
   ]
  },
  {
   "cell_type": "code",
   "execution_count": 78,
   "metadata": {},
   "outputs": [
    {
     "name": "stdout",
     "output_type": "stream",
     "text": [
      "[[2476  250]\n",
      " [ 412  612]]\n"
     ]
    }
   ],
   "source": [
    "print(confusion_matrix(y_test,predictions7))"
   ]
  },
  {
   "cell_type": "code",
   "execution_count": 79,
   "metadata": {
    "scrolled": true
   },
   "outputs": [
    {
     "name": "stdout",
     "output_type": "stream",
     "text": [
      "CROSS VAL GauNB: [0.80191949 0.8136     0.80234729]\n",
      "Accuracy GauNB: 0.8024\n",
      "AccuracyGauNB: 0.81 (+/- 0.01)\n"
     ]
    },
    {
     "name": "stderr",
     "output_type": "stream",
     "text": [
      "C:\\ProgramData\\Anaconda3\\lib\\site-packages\\sklearn\\model_selection\\_split.py:2053: FutureWarning: You should specify a value for 'cv' instead of relying on the default value. The default value will change from 3 to 5 in version 0.22.\n",
      "  warnings.warn(CV_WARNING, FutureWarning)\n",
      "C:\\ProgramData\\Anaconda3\\lib\\site-packages\\sklearn\\model_selection\\_split.py:2053: FutureWarning: You should specify a value for 'cv' instead of relying on the default value. The default value will change from 3 to 5 in version 0.22.\n",
      "  warnings.warn(CV_WARNING, FutureWarning)\n"
     ]
    }
   ],
   "source": [
    "modelGauNB = GaussianNB()\n",
    "modelGauNB.fit(X_train,y_train)\n",
    "modelGauNB = modelGauNB.fit(X_train,y_train)\n",
    "predictGauNB = modelGauNB.predict(X_test)\n",
    "scoresGauNB= cross_val_score(modelGauNB, X_train, y_train)\n",
    "print(\"CROSS VAL GauNB:\",cross_val_score(modelGauNB, X_train, y_train))\n",
    "print(\"Accuracy GauNB:\",accuracy_score(y_test, predictGauNB))\n",
    "print(\"AccuracyGauNB: %0.2f (+/- %0.2f)\" % (scoresGauNB.mean(), scoresGauNB.std() * 2))"
   ]
  },
  {
   "cell_type": "code",
   "execution_count": 80,
   "metadata": {},
   "outputs": [
    {
     "name": "stdout",
     "output_type": "stream",
     "text": [
      "[[2428  298]\n",
      " [ 443  581]]\n"
     ]
    }
   ],
   "source": [
    "print(confusion_matrix(y_test,predictGauNB))  "
   ]
  },
  {
   "cell_type": "code",
   "execution_count": 81,
   "metadata": {},
   "outputs": [
    {
     "name": "stdout",
     "output_type": "stream",
     "text": [
      "[0.1 0.  0.  0.  0.  0.  0.  0.  0.  0.  0.  0.  0.  0.  0.  0.  0.  0.\n",
      " 0.1 0.  0.  0.  0.  0.1 0.  0.  0.3 0.  0.2 0.  0.  0.  0.  0.  0.  0.\n",
      " 0.  0.1 0.  0.  0.  0.  0.  0.  0.  0.  0.  0.1]\n",
      "CROSS VAL RF3: [0.71927486 0.7192     0.71939184]\n",
      "Accuracy RF3: 0.7269333333333333\n",
      "AccuracyRF3: 0.72 (+/- 0.00)\n"
     ]
    },
    {
     "name": "stderr",
     "output_type": "stream",
     "text": [
      "C:\\ProgramData\\Anaconda3\\lib\\site-packages\\sklearn\\model_selection\\_split.py:2053: FutureWarning: You should specify a value for 'cv' instead of relying on the default value. The default value will change from 3 to 5 in version 0.22.\n",
      "  warnings.warn(CV_WARNING, FutureWarning)\n",
      "C:\\ProgramData\\Anaconda3\\lib\\site-packages\\sklearn\\model_selection\\_split.py:2053: FutureWarning: You should specify a value for 'cv' instead of relying on the default value. The default value will change from 3 to 5 in version 0.22.\n",
      "  warnings.warn(CV_WARNING, FutureWarning)\n"
     ]
    }
   ],
   "source": [
    "modelRF3 = RandomForestClassifier(n_estimators=10, max_depth=1, random_state=0)\n",
    "modelRF3.fit(X_train,y_train)\n",
    "predictRF3 = modelRF3.predict(X_test)\n",
    "scoresRF3= cross_val_score(modelRF3, X_train, y_train)\n",
    "print(modelRF3.feature_importances_)\n",
    "print(\"CROSS VAL RF3:\",cross_val_score(modelRF3, X_train, y_train))\n",
    "print(\"Accuracy RF3:\",accuracy_score(y_test, predictRF3))\n",
    "print(\"AccuracyRF3: %0.2f (+/- %0.2f)\" % (scoresRF3.mean(), scoresRF3.std() * 2))"
   ]
  },
  {
   "cell_type": "code",
   "execution_count": 82,
   "metadata": {},
   "outputs": [
    {
     "name": "stdout",
     "output_type": "stream",
     "text": [
      "[[2726    0]\n",
      " [1024    0]]\n"
     ]
    }
   ],
   "source": [
    "print(confusion_matrix(y_test,predictRF3)) "
   ]
  },
  {
   "cell_type": "code",
   "execution_count": 85,
   "metadata": {},
   "outputs": [
    {
     "name": "stderr",
     "output_type": "stream",
     "text": [
      "C:\\ProgramData\\Anaconda3\\lib\\site-packages\\sklearn\\model_selection\\_split.py:2053: FutureWarning: You should specify a value for 'cv' instead of relying on the default value. The default value will change from 3 to 5 in version 0.22.\n",
      "  warnings.warn(CV_WARNING, FutureWarning)\n"
     ]
    },
    {
     "name": "stdout",
     "output_type": "stream",
     "text": [
      "[8.41344285e-02 2.27790884e-01 6.59705492e-02 5.04286673e-02\n",
      " 3.59418927e-04 1.85967871e-03 5.55271417e-03 1.38501934e-03\n",
      " 3.38542570e-04 5.48497940e-07 2.32226003e-03 1.88581230e-04\n",
      " 2.37814058e-05 2.08390651e-04 1.50327416e-03 1.77508638e-03\n",
      " 2.59465056e-04 1.96743577e-04 2.66285739e-02 7.01985770e-03\n",
      " 1.01635760e-02 2.04211937e-02 4.57762998e-07 1.46448010e-02\n",
      " 1.00378076e-03 6.82394400e-04 2.80351675e-01 2.58054704e-04\n",
      " 8.71456719e-02 2.38944622e-03 2.33021515e-03 3.04746670e-06\n",
      " 6.05409386e-04 3.42010923e-02 3.81871092e-03 2.34676517e-03\n",
      " 6.32134859e-04 2.08410348e-02 6.79072676e-06 2.66150484e-02\n",
      " 4.75355965e-05 5.47763610e-04 3.66715902e-04 1.35083114e-03\n",
      " 2.99773743e-04 3.19105051e-03 2.06861606e-05 7.76787670e-03]\n"
     ]
    },
    {
     "name": "stderr",
     "output_type": "stream",
     "text": [
      "C:\\ProgramData\\Anaconda3\\lib\\site-packages\\sklearn\\model_selection\\_split.py:2053: FutureWarning: You should specify a value for 'cv' instead of relying on the default value. The default value will change from 3 to 5 in version 0.22.\n",
      "  warnings.warn(CV_WARNING, FutureWarning)\n"
     ]
    },
    {
     "name": "stdout",
     "output_type": "stream",
     "text": [
      "CROSS VAL RF5: [0.80831778 0.81626667 0.81355028]\n",
      "Accuracy RF5: 0.8192\n",
      "AccuracyRF5: 0.81 (+/- 0.01)\n"
     ]
    }
   ],
   "source": [
    "modelRF5 = RandomForestClassifier(n_estimators=100, max_depth=5, random_state=0)\n",
    "modelRF5.fit(X_train,y_train)\n",
    "scoresRF5= cross_val_score(modelRF5, X_train, y_train)\n",
    "\n",
    "print(modelRF5.feature_importances_)\n",
    "print(\"CROSS VAL RF5:\",cross_val_score(modelRF5, X_train, y_train))\n",
    "predictRF5 = modelRF5.predict(X_test)\n",
    "print(\"Accuracy RF5:\",accuracy_score(y_test, predictRF5))\n",
    "print(\"AccuracyRF5: %0.2f (+/- %0.2f)\" % (scoresRF5.mean(), scoresRF5.std() * 2))\n"
   ]
  },
  {
   "cell_type": "code",
   "execution_count": 84,
   "metadata": {},
   "outputs": [
    {
     "name": "stdout",
     "output_type": "stream",
     "text": [
      "[[2694   32]\n",
      " [ 652  372]]\n"
     ]
    }
   ],
   "source": [
    "print(confusion_matrix(y_test,predictRF5)) "
   ]
  }
 ],
 "metadata": {
  "kernelspec": {
   "display_name": "Python 3",
   "language": "python",
   "name": "python3"
  },
  "language_info": {
   "codemirror_mode": {
    "name": "ipython",
    "version": 3
   },
   "file_extension": ".py",
   "mimetype": "text/x-python",
   "name": "python",
   "nbconvert_exporter": "python",
   "pygments_lexer": "ipython3",
   "version": "3.7.1"
  }
 },
 "nbformat": 4,
 "nbformat_minor": 2
}
